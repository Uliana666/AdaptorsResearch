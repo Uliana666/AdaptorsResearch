{
 "cells": [
  {
   "cell_type": "code",
   "execution_count": 2,
   "metadata": {},
   "outputs": [],
   "source": [
    "from lib import Compressors\n",
    "import torch"
   ]
  },
  {
   "cell_type": "code",
   "execution_count": 4,
   "metadata": {},
   "outputs": [
    {
     "name": "stdout",
     "output_type": "stream",
     "text": [
      "tensor(37.1623) tensor(11.6207)\n",
      "tensor(36.0571) tensor(11.6207)\n"
     ]
    }
   ],
   "source": [
    "m = 50\n",
    "n = 100\n",
    "k = 20\n",
    "r = 10\n",
    "\n",
    "W = torch.rand((m, n))\n",
    "X = torch.rand((n, k))\n",
    "\n",
    "A, B = Compressors.SCORDA(W, X, r)\n",
    "T = A @ B\n",
    "print(torch.norm(T), torch.norm(W @ X - T @ X))\n",
    "\n",
    "Q, _ = torch.linalg.qr(X)\n",
    "\n",
    "T = T @ Q @ Q.T\n",
    "\n",
    "print(torch.norm(T), torch.norm(W @ X - T @ X))"
   ]
  },
  {
   "cell_type": "code",
   "execution_count": null,
   "metadata": {},
   "outputs": [],
   "source": []
  }
 ],
 "metadata": {
  "kernelspec": {
   "display_name": "Python 3",
   "language": "python",
   "name": "python3"
  },
  "language_info": {
   "codemirror_mode": {
    "name": "ipython",
    "version": 3
   },
   "file_extension": ".py",
   "mimetype": "text/x-python",
   "name": "python",
   "nbconvert_exporter": "python",
   "pygments_lexer": "ipython3",
   "version": "3.10.12"
  }
 },
 "nbformat": 4,
 "nbformat_minor": 2
}
