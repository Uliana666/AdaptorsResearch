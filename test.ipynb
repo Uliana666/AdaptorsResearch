{
 "cells": [
  {
   "cell_type": "code",
   "execution_count": 1,
   "metadata": {},
   "outputs": [],
   "source": [
    "# Load model directly\n",
    "from transformers import AutoTokenizer, AutoModelForCausalLM\n",
    "\n",
    "# tokenizer = AutoTokenizer.from_pretrained(\"meta-llama/Meta-Llama-3-8B\")\n",
    "# model = AutoModelForCausalLM.from_pretrained(\"meta-llama/Meta-Llama-3-8B\")"
   ]
  },
  {
   "cell_type": "code",
   "execution_count": 2,
   "metadata": {},
   "outputs": [
    {
     "name": "stdout",
     "output_type": "stream",
     "text": [
      "DatasetDict({\n",
      "    train: Dataset({\n",
      "        features: ['text', 'text_wa_answer', 'correct_answer'],\n",
      "        num_rows: 9427\n",
      "    })\n",
      "    validation: Dataset({\n",
      "        features: ['text', 'text_wa_answer', 'correct_answer'],\n",
      "        num_rows: 3270\n",
      "    })\n",
      "})\n"
     ]
    }
   ],
   "source": [
    "from datasets import load_dataset\n",
    "\n",
    "kek = load_dataset('./datasets/BoolQ')\n",
    "\n",
    "print(kek)"
   ]
  },
  {
   "cell_type": "code",
   "execution_count": 3,
   "metadata": {},
   "outputs": [
    {
     "name": "stdout",
     "output_type": "stream",
     "text": [
      "dict_keys(['text', 'text_wa_answer', 'correct_answer'])\n",
      "\n",
      "<|begin_of_text|><|start_header_id|>system<|end_header_id|>\n",
      "\n",
      "Cutting Knowledge Date: December 2023\n",
      "Today Date: 18 Feb 2025\n",
      "\n",
      "Please answer the following question with True or False. Follow the answer format, full answer not needed.<|eot_id|><|start_header_id|>user<|end_header_id|>\n",
      "\n",
      "Question: do iran and afghanistan speak the same language\n",
      "Answer format: True/False<|eot_id|><|start_header_id|>assistant<|end_header_id|>\n",
      "\n",
      "The correct answer is True<|eot_id|>\n"
     ]
    }
   ],
   "source": [
    "print(kek['train'][0].keys())\n",
    "print()\n",
    "print(kek['train'][0]['text'])"
   ]
  },
  {
   "cell_type": "code",
   "execution_count": 4,
   "metadata": {},
   "outputs": [
    {
     "name": "stdout",
     "output_type": "stream",
     "text": [
      "<|begin_of_text|><|start_header_id|>system<|end_header_id|>\n",
      "\n",
      "Cutting Knowledge Date: December 2023\n",
      "Today Date: 18 Feb 2025\n",
      "\n",
      "Please answer the following question with True or False. Follow the answer format, full answer not needed.<|eot_id|><|start_header_id|>user<|end_header_id|>\n",
      "\n",
      "Question: do iran and afghanistan speak the same language\n",
      "Answer format: True/False<|eot_id|><|start_header_id|>assistant<|end_header_id|>\n",
      "\n",
      "The correct answer is\n"
     ]
    }
   ],
   "source": [
    "print(kek['train'][0]['text_wa_answer'])"
   ]
  },
  {
   "cell_type": "code",
   "execution_count": 5,
   "metadata": {},
   "outputs": [
    {
     "name": "stdout",
     "output_type": "stream",
     "text": [
      "True\n"
     ]
    }
   ],
   "source": [
    "print(kek['train'][0]['correct_answer'])"
   ]
  },
  {
   "cell_type": "code",
   "execution_count": 6,
   "metadata": {},
   "outputs": [
    {
     "name": "stdout",
     "output_type": "stream",
     "text": [
      "DatasetDict({\n",
      "    train: Dataset({\n",
      "        features: ['text', 'text_wa_answer', 'correct_answer'],\n",
      "        num_rows: 316000\n",
      "    })\n",
      "    validation: Dataset({\n",
      "        features: ['text', 'text_wa_answer', 'correct_answer'],\n",
      "        num_rows: 79000\n",
      "    })\n",
      "})\n"
     ]
    }
   ],
   "source": [
    "lol = load_dataset('./datasets/MATH')\n",
    "\n",
    "print(lol)"
   ]
  },
  {
   "cell_type": "code",
   "execution_count": 7,
   "metadata": {},
   "outputs": [
    {
     "name": "stdout",
     "output_type": "stream",
     "text": [
      "dict_keys(['text', 'text_wa_answer', 'correct_answer'])\n",
      "\n",
      "<|begin_of_text|><|start_header_id|>system<|end_header_id|>\n",
      "\n",
      "Cutting Knowledge Date: December 2023\n",
      "Today Date: 20 Mar 2025\n",
      "\n",
      "Below is an instruction that describes a task. Write a response that appropriately completes the request.<|eot_id|><|start_header_id|>user<|end_header_id|>\n",
      "\n",
      "What is the product of the solutions for the equation $|y| = 2(|y| - 1)$?<|eot_id|><|start_header_id|>assistant<|end_header_id|>\n",
      "\n",
      "We can split the equation into two cases: $y \\ge 0$ and $y < 0$.\n",
      "For $y \\ge 0$, the equation becomes $y = 2(y - 1)$, which simplifies to $y = 2y - 2$.\n",
      "Solving this equation gives $y = 2$.\n",
      "For $y < 0$, the equation becomes $-y = 2(-y - 1)$, which simplifies to $-y = -2y - 2$.\n",
      "Solving this equation gives $y = -2$.\n",
      "So the solutions to the original equation are $y = 2$ and $y = -2$.\n",
      "The product of these solutions is $2 \\cdot (-2) = \\boxed{-4}$.\n",
      "The answer is: -4<|eot_id|>\n"
     ]
    }
   ],
   "source": [
    "print(lol['train'][0].keys())\n",
    "print()\n",
    "print(lol['train'][0]['text'])"
   ]
  },
  {
   "cell_type": "code",
   "execution_count": 8,
   "metadata": {},
   "outputs": [
    {
     "name": "stdout",
     "output_type": "stream",
     "text": [
      "<|begin_of_text|><|start_header_id|>system<|end_header_id|>\n",
      "\n",
      "Cutting Knowledge Date: December 2023\n",
      "Today Date: 20 Mar 2025\n",
      "\n",
      "Below is an instruction that describes a task. Write a response that appropriately completes the request.<|eot_id|><|start_header_id|>user<|end_header_id|>\n",
      "\n",
      "What is the product of the solutions for the equation $|y| = 2(|y| - 1)$?<|eot_id|><|start_header_id|>assistant<|end_header_id|>\n",
      "\n",
      "\n"
     ]
    }
   ],
   "source": [
    "print(lol['train'][0]['text_wa_answer'])"
   ]
  },
  {
   "cell_type": "code",
   "execution_count": 11,
   "metadata": {},
   "outputs": [
    {
     "name": "stdout",
     "output_type": "stream",
     "text": [
      "-4\n"
     ]
    }
   ],
   "source": [
    "print(lol['train'][0]['correct_answer'])"
   ]
  },
  {
   "cell_type": "code",
   "execution_count": 9,
   "metadata": {},
   "outputs": [
    {
     "name": "stderr",
     "output_type": "stream",
     "text": [
      "2025-03-20 21:19:49.831065: I tensorflow/core/util/port.cc:153] oneDNN custom operations are on. You may see slightly different numerical results due to floating-point round-off errors from different computation orders. To turn them off, set the environment variable `TF_ENABLE_ONEDNN_OPTS=0`.\n",
      "2025-03-20 21:19:49.859521: E external/local_xla/xla/stream_executor/cuda/cuda_fft.cc:477] Unable to register cuFFT factory: Attempting to register factory for plugin cuFFT when one has already been registered\n",
      "WARNING: All log messages before absl::InitializeLog() is called are written to STDERR\n",
      "E0000 00:00:1742494789.895136 2520296 cuda_dnn.cc:8310] Unable to register cuDNN factory: Attempting to register factory for plugin cuDNN when one has already been registered\n",
      "E0000 00:00:1742494789.905799 2520296 cuda_blas.cc:1418] Unable to register cuBLAS factory: Attempting to register factory for plugin cuBLAS when one has already been registered\n",
      "2025-03-20 21:19:49.942221: I tensorflow/core/platform/cpu_feature_guard.cc:210] This TensorFlow binary is optimized to use available CPU instructions in performance-critical operations.\n",
      "To enable the following instructions: AVX2 AVX512F AVX512_VNNI FMA, in other operations, rebuild TensorFlow with the appropriate compiler flags.\n"
     ]
    },
    {
     "name": "stdout",
     "output_type": "stream",
     "text": [
      "Setting adapter at model.layers.0.self_attn.q_proj layer\n",
      "Setting adapter at model.layers.0.self_attn.k_proj layer\n",
      "Setting adapter at model.layers.0.self_attn.v_proj layer\n",
      "Setting adapter at model.layers.0.self_attn.o_proj layer\n",
      "Setting adapter at model.layers.0.mlp.up_proj layer\n",
      "Setting adapter at model.layers.0.mlp.down_proj layer\n",
      "Setting adapter at model.layers.1.self_attn.q_proj layer\n",
      "Setting adapter at model.layers.1.self_attn.k_proj layer\n",
      "Setting adapter at model.layers.1.self_attn.v_proj layer\n",
      "Setting adapter at model.layers.1.self_attn.o_proj layer\n",
      "Setting adapter at model.layers.1.mlp.up_proj layer\n",
      "Setting adapter at model.layers.1.mlp.down_proj layer\n",
      "Setting adapter at model.layers.2.self_attn.q_proj layer\n",
      "Setting adapter at model.layers.2.self_attn.k_proj layer\n",
      "Setting adapter at model.layers.2.self_attn.v_proj layer\n",
      "Setting adapter at model.layers.2.self_attn.o_proj layer\n",
      "Setting adapter at model.layers.2.mlp.up_proj layer\n",
      "Setting adapter at model.layers.2.mlp.down_proj layer\n",
      "Setting adapter at model.layers.3.self_attn.q_proj layer\n",
      "Setting adapter at model.layers.3.self_attn.k_proj layer\n",
      "Setting adapter at model.layers.3.self_attn.v_proj layer\n",
      "Setting adapter at model.layers.3.self_attn.o_proj layer\n",
      "Setting adapter at model.layers.3.mlp.up_proj layer\n",
      "Setting adapter at model.layers.3.mlp.down_proj layer\n",
      "Setting adapter at model.layers.4.self_attn.q_proj layer\n",
      "Setting adapter at model.layers.4.self_attn.k_proj layer\n",
      "Setting adapter at model.layers.4.self_attn.v_proj layer\n",
      "Setting adapter at model.layers.4.self_attn.o_proj layer\n",
      "Setting adapter at model.layers.4.mlp.up_proj layer\n",
      "Setting adapter at model.layers.4.mlp.down_proj layer\n",
      "Setting adapter at model.layers.5.self_attn.q_proj layer\n",
      "Setting adapter at model.layers.5.self_attn.k_proj layer\n",
      "Setting adapter at model.layers.5.self_attn.v_proj layer\n",
      "Setting adapter at model.layers.5.self_attn.o_proj layer\n",
      "Setting adapter at model.layers.5.mlp.up_proj layer\n",
      "Setting adapter at model.layers.5.mlp.down_proj layer\n",
      "Setting adapter at model.layers.6.self_attn.q_proj layer\n",
      "Setting adapter at model.layers.6.self_attn.k_proj layer\n",
      "Setting adapter at model.layers.6.self_attn.v_proj layer\n",
      "Setting adapter at model.layers.6.self_attn.o_proj layer\n",
      "Setting adapter at model.layers.6.mlp.up_proj layer\n",
      "Setting adapter at model.layers.6.mlp.down_proj layer\n",
      "Setting adapter at model.layers.7.self_attn.q_proj layer\n",
      "Setting adapter at model.layers.7.self_attn.k_proj layer\n",
      "Setting adapter at model.layers.7.self_attn.v_proj layer\n",
      "Setting adapter at model.layers.7.self_attn.o_proj layer\n",
      "Setting adapter at model.layers.7.mlp.up_proj layer\n",
      "Setting adapter at model.layers.7.mlp.down_proj layer\n",
      "Setting adapter at model.layers.8.self_attn.q_proj layer\n",
      "Setting adapter at model.layers.8.self_attn.k_proj layer\n",
      "Setting adapter at model.layers.8.self_attn.v_proj layer\n",
      "Setting adapter at model.layers.8.self_attn.o_proj layer\n",
      "Setting adapter at model.layers.8.mlp.up_proj layer\n",
      "Setting adapter at model.layers.8.mlp.down_proj layer\n",
      "Setting adapter at model.layers.9.self_attn.q_proj layer\n",
      "Setting adapter at model.layers.9.self_attn.k_proj layer\n",
      "Setting adapter at model.layers.9.self_attn.v_proj layer\n",
      "Setting adapter at model.layers.9.self_attn.o_proj layer\n",
      "Setting adapter at model.layers.9.mlp.up_proj layer\n",
      "Setting adapter at model.layers.9.mlp.down_proj layer\n",
      "Setting adapter at model.layers.10.self_attn.q_proj layer\n",
      "Setting adapter at model.layers.10.self_attn.k_proj layer\n",
      "Setting adapter at model.layers.10.self_attn.v_proj layer\n",
      "Setting adapter at model.layers.10.self_attn.o_proj layer\n",
      "Setting adapter at model.layers.10.mlp.up_proj layer\n",
      "Setting adapter at model.layers.10.mlp.down_proj layer\n",
      "Setting adapter at model.layers.11.self_attn.q_proj layer\n",
      "Setting adapter at model.layers.11.self_attn.k_proj layer\n",
      "Setting adapter at model.layers.11.self_attn.v_proj layer\n",
      "Setting adapter at model.layers.11.self_attn.o_proj layer\n",
      "Setting adapter at model.layers.11.mlp.up_proj layer\n",
      "Setting adapter at model.layers.11.mlp.down_proj layer\n",
      "Setting adapter at model.layers.12.self_attn.q_proj layer\n",
      "Setting adapter at model.layers.12.self_attn.k_proj layer\n",
      "Setting adapter at model.layers.12.self_attn.v_proj layer\n",
      "Setting adapter at model.layers.12.self_attn.o_proj layer\n",
      "Setting adapter at model.layers.12.mlp.up_proj layer\n",
      "Setting adapter at model.layers.12.mlp.down_proj layer\n",
      "Setting adapter at model.layers.13.self_attn.q_proj layer\n",
      "Setting adapter at model.layers.13.self_attn.k_proj layer\n",
      "Setting adapter at model.layers.13.self_attn.v_proj layer\n",
      "Setting adapter at model.layers.13.self_attn.o_proj layer\n",
      "Setting adapter at model.layers.13.mlp.up_proj layer\n",
      "Setting adapter at model.layers.13.mlp.down_proj layer\n",
      "Setting adapter at model.layers.14.self_attn.q_proj layer\n",
      "Setting adapter at model.layers.14.self_attn.k_proj layer\n",
      "Setting adapter at model.layers.14.self_attn.v_proj layer\n",
      "Setting adapter at model.layers.14.self_attn.o_proj layer\n",
      "Setting adapter at model.layers.14.mlp.up_proj layer\n",
      "Setting adapter at model.layers.14.mlp.down_proj layer\n",
      "Setting adapter at model.layers.15.self_attn.q_proj layer\n",
      "Setting adapter at model.layers.15.self_attn.k_proj layer\n",
      "Setting adapter at model.layers.15.self_attn.v_proj layer\n",
      "Setting adapter at model.layers.15.self_attn.o_proj layer\n",
      "Setting adapter at model.layers.15.mlp.up_proj layer\n",
      "Setting adapter at model.layers.15.mlp.down_proj layer\n",
      "trainable: 4325376  |  total: 1240139776  |  trainable(%): 0.348781\n"
     ]
    }
   ],
   "source": [
    "from lib import Models\n",
    "from omegaconf import OmegaConf\n",
    "\n",
    "adaptor_config = OmegaConf.load(\"./scripts/lora_config.yaml\")\n",
    "# model, tokenizer = Models.LoadFineTuneLLM(adaptor_config, \"meta-llama/Llama-3.2-1B-Instruct\", \"./results/lora/ft\")\n",
    "model, tokenizer = Models.LoadFineTuneLLM(adaptor_config, \"meta-llama/Llama-3.2-1B-Instruct\", \"./test_/musirok/ft\")"
   ]
  },
  {
   "cell_type": "code",
   "execution_count": 10,
   "metadata": {},
   "outputs": [
    {
     "name": "stderr",
     "output_type": "stream",
     "text": [
      "Device set to use cuda\n",
      "Truncation was not explicitly activated but `max_length` is provided a specific value, please use `truncation=True` to explicitly truncate examples to max length. Defaulting to 'longest_first' truncation strategy. If you encode pairs of sequences (GLUE-style) with the tokenizer you can select this strategy more precisely by providing a specific strategy to `truncation`.\n"
     ]
    }
   ],
   "source": [
    "from transformers import pipeline\n",
    "\n",
    "# pipe = pipeline(\"text-generation\", model=\"meta-llama/Llama-3.2-1B-Instruct\")\n",
    "pipe = pipeline(\"text-generation\", model=model, tokenizer=tokenizer, max_length=1000)\n",
    "res = pipe(lol['train'][0]['text_wa_answer'])"
   ]
  },
  {
   "cell_type": "code",
   "execution_count": 11,
   "metadata": {},
   "outputs": [
    {
     "name": "stdout",
     "output_type": "stream",
     "text": [
      "<|begin_of_text|><|start_header_id|>system<|end_header_id|>\n",
      "\n",
      "Cutting Knowledge Date: December 2023\n",
      "Today Date: 20 Mar 2025\n",
      "\n",
      "Below is an instruction that describes a task. Write a response that appropriately completes the request.<|eot_id|><|start_header_id|>user<|end_header_id|>\n",
      "\n",
      "What is the product of the solutions for the equation $|y| = 2(|y| - 1)$?<|eot_id|><|start_header_id|>assistant<|end_header_id|>\n",
      "\n",
      "To find the solutions for the equation $|y| = 2(|y| - 1)$, we need to consider two cases:\n",
      "- Case 1: $y \\geq 0$\n",
      "- Case 2: $y < 0$\n",
      "\n",
      "For Case 1: $y \\geq 0$\n",
      "$y = 2(y - 1)$\n",
      "$y = 2y - 2$\n",
      "$y - 2y = -2$\n",
      "$-y = -2$\n",
      "$y = 2$\n",
      "For Case 2: $y < 0$\n",
      "$-y = 2(-y - 1)$\n",
      "$-y = -2y - 2$\n",
      "$y + 2y = -2$\n",
      "$3y = -2$\n",
      "$y = -\\frac{2}{3}$\n",
      "\n",
      "The solutions to the equation $|y| = 2(|y| - 1)$ are $y = 2$ and $y = -\\frac{2}{3}$.\n",
      "\n",
      "The product of the solutions is $2 \\cdot -\\frac{2}{3} = -\\frac{4}{3}$.\n",
      "The answer is: -\\frac{4}{3}\n"
     ]
    }
   ],
   "source": [
    "print(res[0]['generated_text'])"
   ]
  },
  {
   "cell_type": "code",
   "execution_count": 28,
   "metadata": {},
   "outputs": [
    {
     "name": "stdout",
     "output_type": "stream",
     "text": [
      "[128000, 128007]\n",
      "<|end_header_id|>\n"
     ]
    }
   ],
   "source": [
    "token_id = tokenizer.encode('<|end_header_id|>')\n",
    "print(token_id)\n",
    "print(tokenizer.decode(128007))"
   ]
  },
  {
   "cell_type": "code",
   "execution_count": null,
   "metadata": {},
   "outputs": [],
   "source": [
    "print()"
   ]
  }
 ],
 "metadata": {
  "kernelspec": {
   "display_name": "Python 3",
   "language": "python",
   "name": "python3"
  },
  "language_info": {
   "codemirror_mode": {
    "name": "ipython",
    "version": 3
   },
   "file_extension": ".py",
   "mimetype": "text/x-python",
   "name": "python",
   "nbconvert_exporter": "python",
   "pygments_lexer": "ipython3",
   "version": "3.10.12"
  }
 },
 "nbformat": 4,
 "nbformat_minor": 2
}
