{
 "cells": [
  {
   "cell_type": "code",
   "execution_count": 1,
   "metadata": {},
   "outputs": [],
   "source": [
    "# %pip install transformers torch\n",
    "# %pip install transformers\n",
    "# %pip install ipywidgets\n",
    "# %pip install numpy==1.26.4\n",
    "# %pip install datasets\n",
    "# %pip install scipy\n",
    "# %pip install sentencepiece\n",
    "# %pip install scipy==1.12\n",
    "# %pip install tf-keras\n",
    "# %pip install 'accelerate>=0.26.0'\n",
    "# %pip install scikit-learn"
   ]
  },
  {
   "cell_type": "code",
   "execution_count": 2,
   "metadata": {},
   "outputs": [],
   "source": [
    "from lib import Compressors\n",
    "import numpy as np\n",
    "import time\n",
    "\n",
    "\n",
    "seed_value = 69\n",
    "np.random.seed(seed_value)"
   ]
  },
  {
   "cell_type": "code",
   "execution_count": 3,
   "metadata": {},
   "outputs": [],
   "source": [
    "def calculate(W, X, r):\n",
    "    start_time = time.time()\n",
    "    B = Compressors.JustSVD(W, X, r)\n",
    "    svd_time = time.time() - start_time\n",
    "    \n",
    "    start_time = time.time()\n",
    "    D = Compressors.SuperFindWeightNorm(W, X, r)\n",
    "    qr_time = time.time() - start_time\n",
    "    \n",
    "    start_time = time.time()\n",
    "    C = Compressors.MyFindWeightNorm(W, X, r)\n",
    "    invert_singular_time = time.time() - start_time\n",
    "    \n",
    "    start_time = time.time()\n",
    "    A = Compressors.AuthorFindWeightNorm(W, X, r, 10)\n",
    "    author_time = time.time() - start_time\n",
    "    \n",
    "\n",
    "    norm_author = np.linalg.norm(W @ X - A @ X)\n",
    "    norm_svd = np.linalg.norm(W @ X - B @ X)\n",
    "    norm_invert_singular = np.linalg.norm(W @ X - C @ X)\n",
    "    norm_qr = np.linalg.norm(W @ X - D @ X)\n",
    "\n",
    "\n",
    "    print('Difference with reference')\n",
    "    print(f\"{'Author:':<20} {norm_author:12.4e} (Time: {author_time:.4f} s)\")\n",
    "    print(f\"{'Just SVD:':<20} {norm_svd:12.4e} (Time: {svd_time:.4f} s)\")\n",
    "    print(f\"{'Invert singular:':<20} {norm_invert_singular:12.4e} (Time: {invert_singular_time:.4f} s)\")\n",
    "    print(f\"{'QR decomposition:':<20} {norm_qr:12.4e} (Time: {qr_time:.4f} s)\")\n",
    "    print('-------------------')\n",
    "\n",
    "    # norm_author = np.linalg.norm(W - A)\n",
    "    # norm_svd = np.linalg.norm(W - B)\n",
    "    # norm_invert_singular = np.linalg.norm(W - C)\n",
    "    # norm_qr = np.linalg.norm(W - D)\n",
    "\n",
    "    # print('Difference with W')\n",
    "    # print(f\"{'Author:':<20} {norm_author:.4f}\")\n",
    "    # print(f\"{'Just SVD:':<20} {norm_svd:.4f}\")\n",
    "    # print(f\"{'Invert singular:':<20} {norm_invert_singular:.4f}\")\n",
    "    # print(f\"{'QR decomposition:':<20} {norm_qr:.4f}\")\n",
    "\n",
    "def hilbert_matrix(n):\n",
    "    i, j = np.indices((n, n))\n",
    "    H = 1.0 / (i + j + 1)\n",
    "    return H"
   ]
  },
  {
   "cell_type": "code",
   "execution_count": 4,
   "metadata": {},
   "outputs": [
    {
     "name": "stdout",
     "output_type": "stream",
     "text": [
      "Difference with reference\n",
      "Author:                5.0873e+03 (Time: 0.3156 s)\n",
      "Just SVD:              8.8310e+03 (Time: 0.2426 s)\n",
      "Invert singular:       5.0873e+03 (Time: 0.2522 s)\n",
      "QR decomposition:      5.0873e+03 (Time: 0.1752 s)\n",
      "-------------------\n"
     ]
    }
   ],
   "source": [
    "W = np.random.normal(size=(768, 768))\n",
    "X = np.random.normal(size=(768, 512))\n",
    "\n",
    "r = 256\n",
    "calculate(W, X, r)"
   ]
  },
  {
   "cell_type": "code",
   "execution_count": 5,
   "metadata": {},
   "outputs": [
    {
     "name": "stdout",
     "output_type": "stream",
     "text": [
      "Difference with reference\n",
      "Author:                3.2835e+04 (Time: 6.5709 s)\n",
      "Just SVD:              6.9357e+04 (Time: 5.4739 s)\n",
      "Invert singular:       3.2835e+04 (Time: 1.7970 s)\n",
      "QR decomposition:      3.2835e+04 (Time: 1.3900 s)\n",
      "-------------------\n"
     ]
    }
   ],
   "source": [
    "W = np.random.normal(size=(3200, 3200))\n",
    "X = np.random.normal(size=(3200, 1024))\n",
    "\n",
    "\n",
    "r = 650\n",
    "calculate(W, X, r)"
   ]
  },
  {
   "cell_type": "code",
   "execution_count": 6,
   "metadata": {},
   "outputs": [
    {
     "name": "stdout",
     "output_type": "stream",
     "text": [
      "Difference with reference\n",
      "Author:                9.2623e-02 (Time: 6.4262 s)\n",
      "Just SVD:              1.5563e+04 (Time: 5.3329 s)\n",
      "Invert singular:       2.6296e-10 (Time: 1.7966 s)\n",
      "QR decomposition:      1.5204e-10 (Time: 1.3565 s)\n",
      "-------------------\n"
     ]
    }
   ],
   "source": [
    "W = np.random.uniform(size=(3200, 3200))\n",
    "X = np.random.normal(size=(3200, 1024))\n",
    "\n",
    "r = 1024\n",
    "calculate(W, X, r)"
   ]
  },
  {
   "cell_type": "code",
   "execution_count": 7,
   "metadata": {},
   "outputs": [
    {
     "name": "stdout",
     "output_type": "stream",
     "text": [
      "Difference with reference\n",
      "Author:                3.2757e-02 (Time: 8.2140 s)\n",
      "Just SVD:              9.6642e+04 (Time: 6.7529 s)\n",
      "Invert singular:       6.5124e-07 (Time: 1.7525 s)\n",
      "QR decomposition:      5.8204e-07 (Time: 1.4844 s)\n",
      "-------------------\n"
     ]
    }
   ],
   "source": [
    "W = np.random.uniform(size=(4000, 3200))\n",
    "X = np.random.rand(3200, 512) @ np.random.rand(512, 1024)\n",
    "\n",
    "r = 600\n",
    "calculate(W, X, r)"
   ]
  },
  {
   "cell_type": "code",
   "execution_count": 8,
   "metadata": {},
   "outputs": [
    {
     "name": "stdout",
     "output_type": "stream",
     "text": [
      "Difference with reference\n",
      "Author:                9.1554e-01 (Time: 6.3875 s)\n",
      "Just SVD:              2.8502e+01 (Time: 5.2634 s)\n",
      "Invert singular:       3.0149e-12 (Time: 8.5717 s)\n",
      "QR decomposition:      6.1136e-12 (Time: 5.8525 s)\n",
      "-------------------\n"
     ]
    }
   ],
   "source": [
    "W = np.random.uniform(size=(3200, 3200))\n",
    "X = hilbert_matrix(3200)\n",
    "\n",
    "r = 600\n",
    "calculate(W, X, r)"
   ]
  },
  {
   "cell_type": "code",
   "execution_count": 9,
   "metadata": {},
   "outputs": [
    {
     "name": "stdout",
     "output_type": "stream",
     "text": [
      "Difference with reference\n",
      "Author:                3.2837e-02 (Time: 7.9205 s)\n",
      "Just SVD:              9.4720e+04 (Time: 6.5729 s)\n",
      "Invert singular:       5.9444e-07 (Time: 1.8343 s)\n",
      "QR decomposition:      5.6130e-07 (Time: 1.4935 s)\n",
      "-------------------\n"
     ]
    }
   ],
   "source": [
    "W = np.random.uniform(size=(4000, 3200)).astype(np.float32)\n",
    "X = (np.random.rand(3200, 512) @ np.random.rand(512, 1024)).astype(np.float64)\n",
    "\n",
    "r = 600\n",
    "calculate(W, X, r)"
   ]
  },
  {
   "cell_type": "code",
   "execution_count": 10,
   "metadata": {},
   "outputs": [
    {
     "name": "stdout",
     "output_type": "stream",
     "text": [
      "Difference with reference\n",
      "Author:                8.8916e-01 (Time: 6.2410 s)\n",
      "Just SVD:              2.8543e+01 (Time: 5.1297 s)\n",
      "Invert singular:       9.8949e-04 (Time: 10.1510 s)\n",
      "QR decomposition:      8.0059e-04 (Time: 6.6057 s)\n",
      "-------------------\n"
     ]
    }
   ],
   "source": [
    "W = np.random.uniform(size=(3200, 3200)).astype(np.float32)\n",
    "X = hilbert_matrix(3200).astype(np.float32)\n",
    "\n",
    "r = 600\n",
    "calculate(W, X, r)"
   ]
  }
 ],
 "metadata": {
  "kernelspec": {
   "display_name": "Python 3",
   "language": "python",
   "name": "python3"
  },
  "language_info": {
   "codemirror_mode": {
    "name": "ipython",
    "version": 3
   },
   "file_extension": ".py",
   "mimetype": "text/x-python",
   "name": "python",
   "nbconvert_exporter": "python",
   "pygments_lexer": "ipython3",
   "version": "3.10.12"
  }
 },
 "nbformat": 4,
 "nbformat_minor": 2
}
