{
 "cells": [
  {
   "cell_type": "code",
   "execution_count": 1,
   "metadata": {},
   "outputs": [
    {
     "name": "stderr",
     "output_type": "stream",
     "text": [
      "2025-03-01 19:01:25.014343: I tensorflow/core/util/port.cc:153] oneDNN custom operations are on. You may see slightly different numerical results due to floating-point round-off errors from different computation orders. To turn them off, set the environment variable `TF_ENABLE_ONEDNN_OPTS=0`.\n",
      "2025-03-01 19:01:25.027925: E external/local_xla/xla/stream_executor/cuda/cuda_fft.cc:477] Unable to register cuFFT factory: Attempting to register factory for plugin cuFFT when one has already been registered\n",
      "WARNING: All log messages before absl::InitializeLog() is called are written to STDERR\n",
      "E0000 00:00:1740844885.045039  601407 cuda_dnn.cc:8310] Unable to register cuDNN factory: Attempting to register factory for plugin cuDNN when one has already been registered\n",
      "E0000 00:00:1740844885.049950  601407 cuda_blas.cc:1418] Unable to register cuBLAS factory: Attempting to register factory for plugin cuBLAS when one has already been registered\n",
      "2025-03-01 19:01:25.067355: I tensorflow/core/platform/cpu_feature_guard.cc:210] This TensorFlow binary is optimized to use available CPU instructions in performance-critical operations.\n",
      "To enable the following instructions: AVX2 AVX512F AVX512_VNNI FMA, in other operations, rebuild TensorFlow with the appropriate compiler flags.\n"
     ]
    }
   ],
   "source": [
    "from lib import Models\n",
    "\n",
    "model, tokenizer = Models.LoadLLM(\"meta-llama/Llama-3.2-1B-Instruct\", 'cpu')"
   ]
  },
  {
   "cell_type": "code",
   "execution_count": 2,
   "metadata": {},
   "outputs": [],
   "source": [
    "from super_corda.Config import get_peft_model, SCorDAConfig\n"
   ]
  },
  {
   "cell_type": "code",
   "execution_count": 3,
   "metadata": {},
   "outputs": [],
   "source": [
    "config = SCorDAConfig(r=8, alpha=2, target_modules=['q_proj', 'k_proj', 'v_proj', 'o_proj', 'up_proj', 'down_proj'], init_strategy='lora')"
   ]
  },
  {
   "cell_type": "code",
   "execution_count": 4,
   "metadata": {},
   "outputs": [
    {
     "name": "stdout",
     "output_type": "stream",
     "text": [
      "Setting adapter at model.layers.0.self_attn.q_proj layer\n",
      "Setting adapter at model.layers.0.self_attn.k_proj layer\n",
      "Setting adapter at model.layers.0.self_attn.v_proj layer\n",
      "Setting adapter at model.layers.0.self_attn.o_proj layer\n",
      "Setting adapter at model.layers.0.mlp.up_proj layer\n",
      "Setting adapter at model.layers.0.mlp.down_proj layer\n",
      "Setting adapter at model.layers.1.self_attn.q_proj layer\n",
      "Setting adapter at model.layers.1.self_attn.k_proj layer\n",
      "Setting adapter at model.layers.1.self_attn.v_proj layer\n",
      "Setting adapter at model.layers.1.self_attn.o_proj layer\n",
      "Setting adapter at model.layers.1.mlp.up_proj layer\n",
      "Setting adapter at model.layers.1.mlp.down_proj layer\n",
      "Setting adapter at model.layers.2.self_attn.q_proj layer\n",
      "Setting adapter at model.layers.2.self_attn.k_proj layer\n",
      "Setting adapter at model.layers.2.self_attn.v_proj layer\n",
      "Setting adapter at model.layers.2.self_attn.o_proj layer\n",
      "Setting adapter at model.layers.2.mlp.up_proj layer\n",
      "Setting adapter at model.layers.2.mlp.down_proj layer\n",
      "Setting adapter at model.layers.3.self_attn.q_proj layer\n",
      "Setting adapter at model.layers.3.self_attn.k_proj layer\n",
      "Setting adapter at model.layers.3.self_attn.v_proj layer\n",
      "Setting adapter at model.layers.3.self_attn.o_proj layer\n",
      "Setting adapter at model.layers.3.mlp.up_proj layer\n",
      "Setting adapter at model.layers.3.mlp.down_proj layer\n",
      "Setting adapter at model.layers.4.self_attn.q_proj layer\n",
      "Setting adapter at model.layers.4.self_attn.k_proj layer\n",
      "Setting adapter at model.layers.4.self_attn.v_proj layer\n",
      "Setting adapter at model.layers.4.self_attn.o_proj layer\n",
      "Setting adapter at model.layers.4.mlp.up_proj layer\n",
      "Setting adapter at model.layers.4.mlp.down_proj layer\n",
      "Setting adapter at model.layers.5.self_attn.q_proj layer\n",
      "Setting adapter at model.layers.5.self_attn.k_proj layer\n",
      "Setting adapter at model.layers.5.self_attn.v_proj layer\n",
      "Setting adapter at model.layers.5.self_attn.o_proj layer\n",
      "Setting adapter at model.layers.5.mlp.up_proj layer\n",
      "Setting adapter at model.layers.5.mlp.down_proj layer\n",
      "Setting adapter at model.layers.6.self_attn.q_proj layer\n",
      "Setting adapter at model.layers.6.self_attn.k_proj layer\n",
      "Setting adapter at model.layers.6.self_attn.v_proj layer\n",
      "Setting adapter at model.layers.6.self_attn.o_proj layer\n",
      "Setting adapter at model.layers.6.mlp.up_proj layer\n",
      "Setting adapter at model.layers.6.mlp.down_proj layer\n",
      "Setting adapter at model.layers.7.self_attn.q_proj layer\n",
      "Setting adapter at model.layers.7.self_attn.k_proj layer\n",
      "Setting adapter at model.layers.7.self_attn.v_proj layer\n",
      "Setting adapter at model.layers.7.self_attn.o_proj layer\n",
      "Setting adapter at model.layers.7.mlp.up_proj layer\n",
      "Setting adapter at model.layers.7.mlp.down_proj layer\n",
      "Setting adapter at model.layers.8.self_attn.q_proj layer\n",
      "Setting adapter at model.layers.8.self_attn.k_proj layer\n",
      "Setting adapter at model.layers.8.self_attn.v_proj layer\n",
      "Setting adapter at model.layers.8.self_attn.o_proj layer\n",
      "Setting adapter at model.layers.8.mlp.up_proj layer\n",
      "Setting adapter at model.layers.8.mlp.down_proj layer\n",
      "Setting adapter at model.layers.9.self_attn.q_proj layer\n",
      "Setting adapter at model.layers.9.self_attn.k_proj layer\n",
      "Setting adapter at model.layers.9.self_attn.v_proj layer\n",
      "Setting adapter at model.layers.9.self_attn.o_proj layer\n",
      "Setting adapter at model.layers.9.mlp.up_proj layer\n",
      "Setting adapter at model.layers.9.mlp.down_proj layer\n",
      "Setting adapter at model.layers.10.self_attn.q_proj layer\n",
      "Setting adapter at model.layers.10.self_attn.k_proj layer\n",
      "Setting adapter at model.layers.10.self_attn.v_proj layer\n",
      "Setting adapter at model.layers.10.self_attn.o_proj layer\n",
      "Setting adapter at model.layers.10.mlp.up_proj layer\n",
      "Setting adapter at model.layers.10.mlp.down_proj layer\n",
      "Setting adapter at model.layers.11.self_attn.q_proj layer\n",
      "Setting adapter at model.layers.11.self_attn.k_proj layer\n",
      "Setting adapter at model.layers.11.self_attn.v_proj layer\n",
      "Setting adapter at model.layers.11.self_attn.o_proj layer\n",
      "Setting adapter at model.layers.11.mlp.up_proj layer\n",
      "Setting adapter at model.layers.11.mlp.down_proj layer\n",
      "Setting adapter at model.layers.12.self_attn.q_proj layer\n",
      "Setting adapter at model.layers.12.self_attn.k_proj layer\n",
      "Setting adapter at model.layers.12.self_attn.v_proj layer\n",
      "Setting adapter at model.layers.12.self_attn.o_proj layer\n",
      "Setting adapter at model.layers.12.mlp.up_proj layer\n",
      "Setting adapter at model.layers.12.mlp.down_proj layer\n",
      "Setting adapter at model.layers.13.self_attn.q_proj layer\n",
      "Setting adapter at model.layers.13.self_attn.k_proj layer\n",
      "Setting adapter at model.layers.13.self_attn.v_proj layer\n",
      "Setting adapter at model.layers.13.self_attn.o_proj layer\n",
      "Setting adapter at model.layers.13.mlp.up_proj layer\n",
      "Setting adapter at model.layers.13.mlp.down_proj layer\n",
      "Setting adapter at model.layers.14.self_attn.q_proj layer\n",
      "Setting adapter at model.layers.14.self_attn.k_proj layer\n",
      "Setting adapter at model.layers.14.self_attn.v_proj layer\n",
      "Setting adapter at model.layers.14.self_attn.o_proj layer\n",
      "Setting adapter at model.layers.14.mlp.up_proj layer\n",
      "Setting adapter at model.layers.14.mlp.down_proj layer\n",
      "Setting adapter at model.layers.15.self_attn.q_proj layer\n",
      "Setting adapter at model.layers.15.self_attn.k_proj layer\n",
      "Setting adapter at model.layers.15.self_attn.v_proj layer\n",
      "Setting adapter at model.layers.15.self_attn.o_proj layer\n",
      "Setting adapter at model.layers.15.mlp.up_proj layer\n",
      "Setting adapter at model.layers.15.mlp.down_proj layer\n",
      "trainable: 4325376  |  total: 1240139776  |  trainable(%): 0.348781\n"
     ]
    }
   ],
   "source": [
    "model = get_peft_model(model, config)"
   ]
  },
  {
   "cell_type": "code",
   "execution_count": 8,
   "metadata": {},
   "outputs": [
    {
     "data": {
      "text/plain": [
       "('./test_/tokenizer_config.json',\n",
       " './test_/special_tokens_map.json',\n",
       " './test_/tokenizer.json')"
      ]
     },
     "execution_count": 8,
     "metadata": {},
     "output_type": "execute_result"
    }
   ],
   "source": [
    "path = './test_'\n",
    "import torch\n",
    "\n",
    "# torch.save((model, tokenizer), path)\n",
    "model.save_pretrained(path)\n",
    "tokenizer.save_pretrained(path)\n",
    "# model.config.save_pretrained(path)"
   ]
  },
  {
   "cell_type": "code",
   "execution_count": 9,
   "metadata": {},
   "outputs": [
    {
     "name": "stdout",
     "output_type": "stream",
     "text": [
      "LlamaForCausalLM(\n",
      "  (model): LlamaModel(\n",
      "    (embed_tokens): Embedding(128256, 2048)\n",
      "    (layers): ModuleList(\n",
      "      (0-15): 16 x LlamaDecoderLayer(\n",
      "        (self_attn): LlamaAttention(\n",
      "          (q_proj): SCorDALinear(\n",
      "            (pre_layer): Linear(in_features=2048, out_features=2048, bias=False)\n",
      "            (adapter): SCorDAInitialization(\n",
      "              adapter_A=Parameter(shape=torch.Size([2048, 8]), dtype=torch.float32, requires_grad=True),\n",
      "              adapter_B=Parameter(shape=torch.Size([8, 2048]), dtype=torch.float32, requires_grad=True),\n",
      "              r=8,\n",
      "              init_strategy='lora'\n",
      "            )\n",
      "          )\n",
      "          (k_proj): SCorDALinear(\n",
      "            (pre_layer): Linear(in_features=2048, out_features=512, bias=False)\n",
      "            (adapter): SCorDAInitialization(\n",
      "              adapter_A=Parameter(shape=torch.Size([2048, 8]), dtype=torch.float32, requires_grad=True),\n",
      "              adapter_B=Parameter(shape=torch.Size([8, 512]), dtype=torch.float32, requires_grad=True),\n",
      "              r=8,\n",
      "              init_strategy='lora'\n",
      "            )\n",
      "          )\n",
      "          (v_proj): SCorDALinear(\n",
      "            (pre_layer): Linear(in_features=2048, out_features=512, bias=False)\n",
      "            (adapter): SCorDAInitialization(\n",
      "              adapter_A=Parameter(shape=torch.Size([2048, 8]), dtype=torch.float32, requires_grad=True),\n",
      "              adapter_B=Parameter(shape=torch.Size([8, 512]), dtype=torch.float32, requires_grad=True),\n",
      "              r=8,\n",
      "              init_strategy='lora'\n",
      "            )\n",
      "          )\n",
      "          (o_proj): SCorDALinear(\n",
      "            (pre_layer): Linear(in_features=2048, out_features=2048, bias=False)\n",
      "            (adapter): SCorDAInitialization(\n",
      "              adapter_A=Parameter(shape=torch.Size([2048, 8]), dtype=torch.float32, requires_grad=True),\n",
      "              adapter_B=Parameter(shape=torch.Size([8, 2048]), dtype=torch.float32, requires_grad=True),\n",
      "              r=8,\n",
      "              init_strategy='lora'\n",
      "            )\n",
      "          )\n",
      "        )\n",
      "        (mlp): LlamaMLP(\n",
      "          (gate_proj): Linear(in_features=2048, out_features=8192, bias=False)\n",
      "          (up_proj): SCorDALinear(\n",
      "            (pre_layer): Linear(in_features=2048, out_features=8192, bias=False)\n",
      "            (adapter): SCorDAInitialization(\n",
      "              adapter_A=Parameter(shape=torch.Size([2048, 8]), dtype=torch.float32, requires_grad=True),\n",
      "              adapter_B=Parameter(shape=torch.Size([8, 8192]), dtype=torch.float32, requires_grad=True),\n",
      "              r=8,\n",
      "              init_strategy='lora'\n",
      "            )\n",
      "          )\n",
      "          (down_proj): SCorDALinear(\n",
      "            (pre_layer): Linear(in_features=8192, out_features=2048, bias=False)\n",
      "            (adapter): SCorDAInitialization(\n",
      "              adapter_A=Parameter(shape=torch.Size([8192, 8]), dtype=torch.float32, requires_grad=True),\n",
      "              adapter_B=Parameter(shape=torch.Size([8, 2048]), dtype=torch.float32, requires_grad=True),\n",
      "              r=8,\n",
      "              init_strategy='lora'\n",
      "            )\n",
      "          )\n",
      "          (act_fn): SiLU()\n",
      "        )\n",
      "        (input_layernorm): LlamaRMSNorm((2048,), eps=1e-05)\n",
      "        (post_attention_layernorm): LlamaRMSNorm((2048,), eps=1e-05)\n",
      "      )\n",
      "    )\n",
      "    (norm): LlamaRMSNorm((2048,), eps=1e-05)\n",
      "    (rotary_emb): LlamaRotaryEmbedding()\n",
      "  )\n",
      "  (lm_head): Linear(in_features=2048, out_features=128256, bias=False)\n",
      ")\n"
     ]
    }
   ],
   "source": [
    "print(model)"
   ]
  },
  {
   "cell_type": "code",
   "execution_count": 10,
   "metadata": {},
   "outputs": [
    {
     "name": "stderr",
     "output_type": "stream",
     "text": [
      "Some weights of the model checkpoint at ./test_ were not used when initializing LlamaForCausalLM: {'model.layers.14.self_attn.k_proj.adapter.adapter_A', 'model.layers.12.mlp.down_proj.adapter.adapter_A', 'model.layers.3.self_attn.k_proj.pre_layer.weight', 'model.layers.4.self_attn.o_proj.pre_layer.weight', 'model.layers.13.self_attn.o_proj.adapter.adapter_B', 'model.layers.10.self_attn.k_proj.adapter.adapter_A', 'model.layers.3.mlp.down_proj.pre_layer.weight', 'model.layers.7.self_attn.o_proj.adapter.adapter_A', 'model.layers.0.self_attn.v_proj.adapter.adapter_A', 'model.layers.0.mlp.down_proj.adapter.adapter_B', 'model.layers.1.self_attn.k_proj.pre_layer.weight', 'model.layers.1.self_attn.q_proj.pre_layer.weight', 'model.layers.10.mlp.up_proj.adapter.adapter_B', 'model.layers.1.self_attn.v_proj.adapter.adapter_A', 'model.layers.13.mlp.down_proj.adapter.adapter_B', 'model.layers.7.self_attn.v_proj.pre_layer.weight', 'model.layers.15.mlp.up_proj.adapter.adapter_B', 'model.layers.1.self_attn.k_proj.adapter.adapter_A', 'model.layers.5.self_attn.o_proj.pre_layer.weight', 'model.layers.7.self_attn.o_proj.pre_layer.weight', 'model.layers.14.self_attn.q_proj.adapter.adapter_B', 'model.layers.14.self_attn.q_proj.adapter.adapter_A', 'model.layers.15.mlp.down_proj.adapter.adapter_B', 'model.layers.4.mlp.down_proj.adapter.adapter_B', 'model.layers.4.self_attn.k_proj.pre_layer.weight', 'model.layers.6.self_attn.v_proj.adapter.adapter_B', 'model.layers.8.self_attn.q_proj.adapter.adapter_B', 'model.layers.8.mlp.down_proj.adapter.adapter_A', 'model.layers.2.self_attn.o_proj.adapter.adapter_A', 'model.layers.8.self_attn.q_proj.adapter.adapter_A', 'model.layers.3.self_attn.q_proj.adapter.adapter_B', 'model.layers.7.self_attn.o_proj.adapter.adapter_B', 'model.layers.0.self_attn.q_proj.pre_layer.weight', 'model.layers.9.self_attn.k_proj.adapter.adapter_B', 'model.layers.13.self_attn.v_proj.pre_layer.weight', 'model.layers.12.mlp.down_proj.adapter.adapter_B', 'model.layers.3.self_attn.v_proj.adapter.adapter_A', 'model.layers.14.self_attn.o_proj.adapter.adapter_B', 'model.layers.11.mlp.up_proj.pre_layer.weight', 'model.layers.12.self_attn.q_proj.pre_layer.weight', 'model.layers.8.self_attn.o_proj.pre_layer.weight', 'model.layers.4.self_attn.q_proj.adapter.adapter_A', 'model.layers.2.self_attn.o_proj.adapter.adapter_B', 'model.layers.3.self_attn.v_proj.pre_layer.weight', 'model.layers.1.self_attn.o_proj.pre_layer.weight', 'model.layers.10.self_attn.o_proj.adapter.adapter_A', 'model.layers.5.self_attn.k_proj.adapter.adapter_B', 'model.layers.7.mlp.up_proj.adapter.adapter_A', 'model.layers.12.self_attn.o_proj.adapter.adapter_B', 'model.layers.0.self_attn.v_proj.adapter.adapter_B', 'model.layers.12.self_attn.k_proj.pre_layer.weight', 'model.layers.10.self_attn.k_proj.adapter.adapter_B', 'model.layers.15.self_attn.k_proj.adapter.adapter_A', 'model.layers.14.self_attn.o_proj.pre_layer.weight', 'model.layers.15.self_attn.o_proj.pre_layer.weight', 'model.layers.12.self_attn.q_proj.adapter.adapter_B', 'model.layers.11.self_attn.q_proj.adapter.adapter_B', 'model.layers.15.self_attn.k_proj.adapter.adapter_B', 'model.layers.9.self_attn.q_proj.adapter.adapter_B', 'model.layers.9.self_attn.v_proj.pre_layer.weight', 'model.layers.5.self_attn.o_proj.adapter.adapter_B', 'model.layers.6.mlp.up_proj.adapter.adapter_A', 'model.layers.6.self_attn.o_proj.adapter.adapter_B', 'model.layers.9.self_attn.o_proj.pre_layer.weight', 'model.layers.8.mlp.down_proj.pre_layer.weight', 'model.layers.14.mlp.down_proj.pre_layer.weight', 'model.layers.0.mlp.up_proj.pre_layer.weight', 'model.layers.11.self_attn.v_proj.adapter.adapter_B', 'model.layers.1.self_attn.o_proj.adapter.adapter_A', 'model.layers.9.mlp.down_proj.pre_layer.weight', 'model.layers.8.mlp.up_proj.adapter.adapter_A', 'model.layers.1.mlp.up_proj.pre_layer.weight', 'model.layers.2.self_attn.v_proj.adapter.adapter_A', 'model.layers.3.self_attn.o_proj.adapter.adapter_A', 'model.layers.1.mlp.down_proj.pre_layer.weight', 'model.layers.3.self_attn.o_proj.pre_layer.weight', 'model.layers.4.self_attn.q_proj.pre_layer.weight', 'model.layers.6.self_attn.o_proj.pre_layer.weight', 'model.layers.11.mlp.up_proj.adapter.adapter_A', 'model.layers.8.self_attn.v_proj.pre_layer.weight', 'model.layers.0.self_attn.q_proj.adapter.adapter_B', 'model.layers.4.self_attn.v_proj.adapter.adapter_A', 'model.layers.5.self_attn.q_proj.adapter.adapter_B', 'model.layers.7.self_attn.v_proj.adapter.adapter_A', 'model.layers.3.self_attn.v_proj.adapter.adapter_B', 'model.layers.13.self_attn.q_proj.adapter.adapter_A', 'model.layers.12.self_attn.v_proj.adapter.adapter_A', 'model.layers.8.self_attn.v_proj.adapter.adapter_B', 'model.layers.11.mlp.up_proj.adapter.adapter_B', 'model.layers.2.mlp.up_proj.pre_layer.weight', 'model.layers.10.mlp.down_proj.pre_layer.weight', 'model.layers.7.mlp.down_proj.adapter.adapter_A', 'model.layers.15.mlp.down_proj.pre_layer.weight', 'model.layers.12.mlp.up_proj.adapter.adapter_B', 'model.layers.5.mlp.down_proj.adapter.adapter_B', 'model.layers.7.self_attn.k_proj.pre_layer.weight', 'model.layers.3.mlp.up_proj.adapter.adapter_A', 'model.layers.1.mlp.up_proj.adapter.adapter_A', 'model.layers.1.self_attn.q_proj.adapter.adapter_A', 'model.layers.11.self_attn.o_proj.pre_layer.weight', 'model.layers.8.self_attn.k_proj.pre_layer.weight', 'model.layers.15.mlp.up_proj.pre_layer.weight', 'model.layers.10.self_attn.v_proj.adapter.adapter_A', 'model.layers.6.self_attn.o_proj.adapter.adapter_A', 'model.layers.11.self_attn.o_proj.adapter.adapter_A', 'model.layers.4.mlp.up_proj.adapter.adapter_B', 'model.layers.0.self_attn.o_proj.pre_layer.weight', 'model.layers.0.self_attn.k_proj.pre_layer.weight', 'model.layers.2.mlp.up_proj.adapter.adapter_A', 'model.layers.14.self_attn.k_proj.adapter.adapter_B', 'model.layers.6.mlp.down_proj.adapter.adapter_A', 'model.layers.3.mlp.down_proj.adapter.adapter_B', 'model.layers.9.mlp.up_proj.adapter.adapter_A', 'model.layers.0.mlp.down_proj.pre_layer.weight', 'model.layers.1.self_attn.q_proj.adapter.adapter_B', 'model.layers.12.self_attn.o_proj.adapter.adapter_A', 'model.layers.11.self_attn.v_proj.adapter.adapter_A', 'model.layers.8.self_attn.v_proj.adapter.adapter_A', 'model.layers.7.mlp.down_proj.adapter.adapter_B', 'model.layers.6.mlp.up_proj.adapter.adapter_B', 'model.layers.2.mlp.down_proj.adapter.adapter_A', 'model.layers.7.self_attn.q_proj.adapter.adapter_A', 'model.layers.5.self_attn.o_proj.adapter.adapter_A', 'model.layers.6.self_attn.q_proj.adapter.adapter_B', 'model.layers.12.self_attn.v_proj.pre_layer.weight', 'model.layers.5.mlp.up_proj.adapter.adapter_B', 'model.layers.12.mlp.up_proj.adapter.adapter_A', 'model.layers.0.mlp.up_proj.adapter.adapter_B', 'model.layers.4.mlp.down_proj.pre_layer.weight', 'model.layers.7.self_attn.q_proj.pre_layer.weight', 'model.layers.2.self_attn.k_proj.pre_layer.weight', 'model.layers.12.mlp.down_proj.pre_layer.weight', 'model.layers.10.self_attn.o_proj.pre_layer.weight', 'model.layers.12.self_attn.o_proj.pre_layer.weight', 'model.layers.5.self_attn.v_proj.adapter.adapter_B', 'model.layers.9.self_attn.q_proj.pre_layer.weight', 'model.layers.13.self_attn.o_proj.adapter.adapter_A', 'model.layers.6.mlp.down_proj.adapter.adapter_B', 'model.layers.0.mlp.up_proj.adapter.adapter_A', 'model.layers.10.mlp.up_proj.adapter.adapter_A', 'model.layers.3.self_attn.q_proj.adapter.adapter_A', 'model.layers.4.mlp.up_proj.pre_layer.weight', 'model.layers.4.self_attn.k_proj.adapter.adapter_A', 'model.layers.1.mlp.down_proj.adapter.adapter_B', 'model.layers.13.mlp.up_proj.adapter.adapter_A', 'model.layers.15.self_attn.v_proj.adapter.adapter_A', 'model.layers.5.self_attn.v_proj.adapter.adapter_A', 'model.layers.2.self_attn.v_proj.adapter.adapter_B', 'model.layers.2.mlp.down_proj.adapter.adapter_B', 'model.layers.4.self_attn.o_proj.adapter.adapter_B', 'model.layers.7.self_attn.k_proj.adapter.adapter_B', 'model.layers.4.self_attn.q_proj.adapter.adapter_B', 'model.layers.9.mlp.up_proj.pre_layer.weight', 'model.layers.3.self_attn.k_proj.adapter.adapter_A', 'model.layers.15.self_attn.q_proj.adapter.adapter_A', 'model.layers.13.mlp.up_proj.pre_layer.weight', 'model.layers.10.self_attn.v_proj.pre_layer.weight', 'model.layers.2.self_attn.k_proj.adapter.adapter_A', 'model.layers.13.mlp.up_proj.adapter.adapter_B', 'model.layers.14.self_attn.v_proj.pre_layer.weight', 'model.layers.5.mlp.down_proj.adapter.adapter_A', 'model.layers.0.self_attn.o_proj.adapter.adapter_B', 'model.layers.10.mlp.down_proj.adapter.adapter_B', 'model.layers.15.self_attn.v_proj.adapter.adapter_B', 'model.layers.13.self_attn.v_proj.adapter.adapter_A', 'model.layers.7.mlp.down_proj.pre_layer.weight', 'model.layers.8.mlp.down_proj.adapter.adapter_B', 'model.layers.0.self_attn.o_proj.adapter.adapter_A', 'model.layers.3.self_attn.k_proj.adapter.adapter_B', 'model.layers.3.self_attn.o_proj.adapter.adapter_B', 'model.layers.2.self_attn.v_proj.pre_layer.weight', 'model.layers.9.mlp.down_proj.adapter.adapter_A', 'model.layers.13.self_attn.k_proj.adapter.adapter_B', 'model.layers.5.self_attn.k_proj.adapter.adapter_A', 'model.layers.9.self_attn.k_proj.adapter.adapter_A', 'model.layers.13.self_attn.k_proj.adapter.adapter_A', 'model.layers.4.self_attn.o_proj.adapter.adapter_A', 'model.layers.5.self_attn.k_proj.pre_layer.weight', 'model.layers.1.self_attn.v_proj.pre_layer.weight', 'model.layers.5.mlp.up_proj.pre_layer.weight', 'model.layers.7.mlp.up_proj.pre_layer.weight', 'model.layers.0.self_attn.k_proj.adapter.adapter_B', 'model.layers.8.mlp.up_proj.adapter.adapter_B', 'model.layers.13.mlp.down_proj.adapter.adapter_A', 'model.layers.13.self_attn.q_proj.pre_layer.weight', 'model.layers.4.mlp.down_proj.adapter.adapter_A', 'model.layers.2.self_attn.q_proj.adapter.adapter_A', 'model.layers.5.self_attn.q_proj.pre_layer.weight', 'model.layers.5.self_attn.v_proj.pre_layer.weight', 'model.layers.14.self_attn.v_proj.adapter.adapter_A', 'model.layers.6.self_attn.k_proj.adapter.adapter_A', 'model.layers.9.mlp.down_proj.adapter.adapter_B', 'model.layers.5.self_attn.q_proj.adapter.adapter_A', 'model.layers.11.mlp.down_proj.adapter.adapter_A', 'model.layers.14.mlp.up_proj.adapter.adapter_B', 'model.layers.11.self_attn.q_proj.pre_layer.weight', 'model.layers.14.mlp.down_proj.adapter.adapter_A', 'model.layers.12.self_attn.k_proj.adapter.adapter_B', 'model.layers.2.self_attn.q_proj.pre_layer.weight', 'model.layers.14.self_attn.o_proj.adapter.adapter_A', 'model.layers.3.mlp.up_proj.adapter.adapter_B', 'model.layers.11.mlp.down_proj.adapter.adapter_B', 'model.layers.12.self_attn.v_proj.adapter.adapter_B', 'model.layers.14.self_attn.k_proj.pre_layer.weight', 'model.layers.11.self_attn.k_proj.adapter.adapter_B', 'model.layers.6.self_attn.k_proj.pre_layer.weight', 'model.layers.9.self_attn.o_proj.adapter.adapter_A', 'model.layers.10.self_attn.k_proj.pre_layer.weight', 'model.layers.13.mlp.down_proj.pre_layer.weight', 'model.layers.4.self_attn.k_proj.adapter.adapter_B', 'model.layers.6.mlp.down_proj.pre_layer.weight', 'model.layers.0.self_attn.q_proj.adapter.adapter_A', 'model.layers.1.self_attn.k_proj.adapter.adapter_B', 'model.layers.14.self_attn.v_proj.adapter.adapter_B', 'model.layers.6.self_attn.v_proj.pre_layer.weight', 'model.layers.13.self_attn.q_proj.adapter.adapter_B', 'model.layers.13.self_attn.v_proj.adapter.adapter_B', 'model.layers.10.self_attn.q_proj.adapter.adapter_B', 'model.layers.15.mlp.up_proj.adapter.adapter_A', 'model.layers.15.self_attn.q_proj.pre_layer.weight', 'model.layers.2.mlp.down_proj.pre_layer.weight', 'model.layers.6.self_attn.q_proj.pre_layer.weight', 'model.layers.15.self_attn.v_proj.pre_layer.weight', 'model.layers.4.self_attn.v_proj.pre_layer.weight', 'model.layers.11.self_attn.o_proj.adapter.adapter_B', 'model.layers.2.self_attn.k_proj.adapter.adapter_B', 'model.layers.2.self_attn.o_proj.pre_layer.weight', 'model.layers.6.self_attn.q_proj.adapter.adapter_A', 'model.layers.12.mlp.up_proj.pre_layer.weight', 'model.layers.14.mlp.down_proj.adapter.adapter_B', 'model.layers.0.mlp.down_proj.adapter.adapter_A', 'model.layers.2.self_attn.q_proj.adapter.adapter_B', 'model.layers.8.self_attn.q_proj.pre_layer.weight', 'model.layers.9.self_attn.o_proj.adapter.adapter_B', 'model.layers.7.self_attn.v_proj.adapter.adapter_B', 'model.layers.11.mlp.down_proj.pre_layer.weight', 'model.layers.8.self_attn.o_proj.adapter.adapter_A', 'model.layers.14.mlp.up_proj.adapter.adapter_A', 'model.layers.1.mlp.down_proj.adapter.adapter_A', 'model.layers.4.self_attn.v_proj.adapter.adapter_B', 'model.layers.1.self_attn.v_proj.adapter.adapter_B', 'model.layers.1.self_attn.o_proj.adapter.adapter_B', 'model.layers.7.self_attn.q_proj.adapter.adapter_B', 'model.layers.9.self_attn.q_proj.adapter.adapter_A', 'model.layers.15.self_attn.o_proj.adapter.adapter_B', 'model.layers.8.mlp.up_proj.pre_layer.weight', 'model.layers.9.self_attn.k_proj.pre_layer.weight', 'model.layers.13.self_attn.o_proj.pre_layer.weight', 'model.layers.0.self_attn.k_proj.adapter.adapter_A', 'model.layers.11.self_attn.q_proj.adapter.adapter_A', 'model.layers.11.self_attn.v_proj.pre_layer.weight', 'model.layers.1.mlp.up_proj.adapter.adapter_B', 'model.layers.12.self_attn.q_proj.adapter.adapter_A', 'model.layers.9.mlp.up_proj.adapter.adapter_B', 'model.layers.3.self_attn.q_proj.pre_layer.weight', 'model.layers.15.self_attn.q_proj.adapter.adapter_B', 'model.layers.10.mlp.down_proj.adapter.adapter_A', 'model.layers.13.self_attn.k_proj.pre_layer.weight', 'model.layers.12.self_attn.k_proj.adapter.adapter_A', 'model.layers.15.self_attn.k_proj.pre_layer.weight', 'model.layers.3.mlp.down_proj.adapter.adapter_A', 'model.layers.6.self_attn.v_proj.adapter.adapter_A', 'model.layers.14.self_attn.q_proj.pre_layer.weight', 'model.layers.11.self_attn.k_proj.pre_layer.weight', 'model.layers.5.mlp.down_proj.pre_layer.weight', 'model.layers.14.mlp.up_proj.pre_layer.weight', 'model.layers.3.mlp.up_proj.pre_layer.weight', 'model.layers.0.self_attn.v_proj.pre_layer.weight', 'model.layers.10.self_attn.q_proj.pre_layer.weight', 'model.layers.11.self_attn.k_proj.adapter.adapter_A', 'model.layers.9.self_attn.v_proj.adapter.adapter_B', 'model.layers.6.mlp.up_proj.pre_layer.weight', 'model.layers.15.self_attn.o_proj.adapter.adapter_A', 'model.layers.2.mlp.up_proj.adapter.adapter_B', 'model.layers.9.self_attn.v_proj.adapter.adapter_A', 'model.layers.10.mlp.up_proj.pre_layer.weight', 'model.layers.6.self_attn.k_proj.adapter.adapter_B', 'model.layers.4.mlp.up_proj.adapter.adapter_A', 'model.layers.10.self_attn.o_proj.adapter.adapter_B', 'model.layers.5.mlp.up_proj.adapter.adapter_A', 'model.layers.7.mlp.up_proj.adapter.adapter_B', 'model.layers.7.self_attn.k_proj.adapter.adapter_A', 'model.layers.8.self_attn.k_proj.adapter.adapter_A', 'model.layers.10.self_attn.v_proj.adapter.adapter_B', 'model.layers.15.mlp.down_proj.adapter.adapter_A', 'model.layers.10.self_attn.q_proj.adapter.adapter_A', 'model.layers.8.self_attn.k_proj.adapter.adapter_B', 'model.layers.8.self_attn.o_proj.adapter.adapter_B'}\n",
      "- This IS expected if you are initializing LlamaForCausalLM from the checkpoint of a model trained on another task or with another architecture (e.g. initializing a BertForSequenceClassification model from a BertForPreTraining model).\n",
      "- This IS NOT expected if you are initializing LlamaForCausalLM from the checkpoint of a model that you expect to be exactly identical (initializing a BertForSequenceClassification model from a BertForSequenceClassification model).\n",
      "Some weights of LlamaForCausalLM were not initialized from the model checkpoint at ./test_ and are newly initialized: ['model.layers.0.mlp.down_proj.weight', 'model.layers.0.mlp.up_proj.weight', 'model.layers.0.self_attn.k_proj.weight', 'model.layers.0.self_attn.o_proj.weight', 'model.layers.0.self_attn.q_proj.weight', 'model.layers.0.self_attn.v_proj.weight', 'model.layers.1.mlp.down_proj.weight', 'model.layers.1.mlp.up_proj.weight', 'model.layers.1.self_attn.k_proj.weight', 'model.layers.1.self_attn.o_proj.weight', 'model.layers.1.self_attn.q_proj.weight', 'model.layers.1.self_attn.v_proj.weight', 'model.layers.10.mlp.down_proj.weight', 'model.layers.10.mlp.up_proj.weight', 'model.layers.10.self_attn.k_proj.weight', 'model.layers.10.self_attn.o_proj.weight', 'model.layers.10.self_attn.q_proj.weight', 'model.layers.10.self_attn.v_proj.weight', 'model.layers.11.mlp.down_proj.weight', 'model.layers.11.mlp.up_proj.weight', 'model.layers.11.self_attn.k_proj.weight', 'model.layers.11.self_attn.o_proj.weight', 'model.layers.11.self_attn.q_proj.weight', 'model.layers.11.self_attn.v_proj.weight', 'model.layers.12.mlp.down_proj.weight', 'model.layers.12.mlp.up_proj.weight', 'model.layers.12.self_attn.k_proj.weight', 'model.layers.12.self_attn.o_proj.weight', 'model.layers.12.self_attn.q_proj.weight', 'model.layers.12.self_attn.v_proj.weight', 'model.layers.13.mlp.down_proj.weight', 'model.layers.13.mlp.up_proj.weight', 'model.layers.13.self_attn.k_proj.weight', 'model.layers.13.self_attn.o_proj.weight', 'model.layers.13.self_attn.q_proj.weight', 'model.layers.13.self_attn.v_proj.weight', 'model.layers.14.mlp.down_proj.weight', 'model.layers.14.mlp.up_proj.weight', 'model.layers.14.self_attn.k_proj.weight', 'model.layers.14.self_attn.o_proj.weight', 'model.layers.14.self_attn.q_proj.weight', 'model.layers.14.self_attn.v_proj.weight', 'model.layers.15.mlp.down_proj.weight', 'model.layers.15.mlp.up_proj.weight', 'model.layers.15.self_attn.k_proj.weight', 'model.layers.15.self_attn.o_proj.weight', 'model.layers.15.self_attn.q_proj.weight', 'model.layers.15.self_attn.v_proj.weight', 'model.layers.2.mlp.down_proj.weight', 'model.layers.2.mlp.up_proj.weight', 'model.layers.2.self_attn.k_proj.weight', 'model.layers.2.self_attn.o_proj.weight', 'model.layers.2.self_attn.q_proj.weight', 'model.layers.2.self_attn.v_proj.weight', 'model.layers.3.mlp.down_proj.weight', 'model.layers.3.mlp.up_proj.weight', 'model.layers.3.self_attn.k_proj.weight', 'model.layers.3.self_attn.o_proj.weight', 'model.layers.3.self_attn.q_proj.weight', 'model.layers.3.self_attn.v_proj.weight', 'model.layers.4.mlp.down_proj.weight', 'model.layers.4.mlp.up_proj.weight', 'model.layers.4.self_attn.k_proj.weight', 'model.layers.4.self_attn.o_proj.weight', 'model.layers.4.self_attn.q_proj.weight', 'model.layers.4.self_attn.v_proj.weight', 'model.layers.5.mlp.down_proj.weight', 'model.layers.5.mlp.up_proj.weight', 'model.layers.5.self_attn.k_proj.weight', 'model.layers.5.self_attn.o_proj.weight', 'model.layers.5.self_attn.q_proj.weight', 'model.layers.5.self_attn.v_proj.weight', 'model.layers.6.mlp.down_proj.weight', 'model.layers.6.mlp.up_proj.weight', 'model.layers.6.self_attn.k_proj.weight', 'model.layers.6.self_attn.o_proj.weight', 'model.layers.6.self_attn.q_proj.weight', 'model.layers.6.self_attn.v_proj.weight', 'model.layers.7.mlp.down_proj.weight', 'model.layers.7.mlp.up_proj.weight', 'model.layers.7.self_attn.k_proj.weight', 'model.layers.7.self_attn.o_proj.weight', 'model.layers.7.self_attn.q_proj.weight', 'model.layers.7.self_attn.v_proj.weight', 'model.layers.8.mlp.down_proj.weight', 'model.layers.8.mlp.up_proj.weight', 'model.layers.8.self_attn.k_proj.weight', 'model.layers.8.self_attn.o_proj.weight', 'model.layers.8.self_attn.q_proj.weight', 'model.layers.8.self_attn.v_proj.weight', 'model.layers.9.mlp.down_proj.weight', 'model.layers.9.mlp.up_proj.weight', 'model.layers.9.self_attn.k_proj.weight', 'model.layers.9.self_attn.o_proj.weight', 'model.layers.9.self_attn.q_proj.weight', 'model.layers.9.self_attn.v_proj.weight']\n",
      "You should probably TRAIN this model on a down-stream task to be able to use it for predictions and inference.\n"
     ]
    }
   ],
   "source": [
    "model2, tokenizer2 = Models.LoadLLM(\"./test_\", 'cpu')\n",
    "# model2, tokenizer2 = torch.load(path)"
   ]
  },
  {
   "cell_type": "code",
   "execution_count": 11,
   "metadata": {},
   "outputs": [
    {
     "name": "stdout",
     "output_type": "stream",
     "text": [
      "LlamaForCausalLM(\n",
      "  (model): LlamaModel(\n",
      "    (embed_tokens): Embedding(128256, 2048)\n",
      "    (layers): ModuleList(\n",
      "      (0-15): 16 x LlamaDecoderLayer(\n",
      "        (self_attn): LlamaAttention(\n",
      "          (q_proj): Linear(in_features=2048, out_features=2048, bias=False)\n",
      "          (k_proj): Linear(in_features=2048, out_features=512, bias=False)\n",
      "          (v_proj): Linear(in_features=2048, out_features=512, bias=False)\n",
      "          (o_proj): Linear(in_features=2048, out_features=2048, bias=False)\n",
      "        )\n",
      "        (mlp): LlamaMLP(\n",
      "          (gate_proj): Linear(in_features=2048, out_features=8192, bias=False)\n",
      "          (up_proj): Linear(in_features=2048, out_features=8192, bias=False)\n",
      "          (down_proj): Linear(in_features=8192, out_features=2048, bias=False)\n",
      "          (act_fn): SiLU()\n",
      "        )\n",
      "        (input_layernorm): LlamaRMSNorm((2048,), eps=1e-05)\n",
      "        (post_attention_layernorm): LlamaRMSNorm((2048,), eps=1e-05)\n",
      "      )\n",
      "    )\n",
      "    (norm): LlamaRMSNorm((2048,), eps=1e-05)\n",
      "    (rotary_emb): LlamaRotaryEmbedding()\n",
      "  )\n",
      "  (lm_head): Linear(in_features=2048, out_features=128256, bias=False)\n",
      ")\n"
     ]
    }
   ],
   "source": [
    "print(model2)"
   ]
  },
  {
   "cell_type": "code",
   "execution_count": null,
   "metadata": {},
   "outputs": [],
   "source": []
  }
 ],
 "metadata": {
  "kernelspec": {
   "display_name": "Python 3",
   "language": "python",
   "name": "python3"
  },
  "language_info": {
   "codemirror_mode": {
    "name": "ipython",
    "version": 3
   },
   "file_extension": ".py",
   "mimetype": "text/x-python",
   "name": "python",
   "nbconvert_exporter": "python",
   "pygments_lexer": "ipython3",
   "version": "3.10.12"
  }
 },
 "nbformat": 4,
 "nbformat_minor": 2
}
