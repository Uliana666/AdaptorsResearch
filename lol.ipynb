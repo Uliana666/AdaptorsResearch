{
 "cells": [
  {
   "cell_type": "code",
   "execution_count": 1,
   "metadata": {},
   "outputs": [
    {
     "name": "stderr",
     "output_type": "stream",
     "text": [
      "2025-02-22 22:51:30.321588: I tensorflow/core/util/port.cc:153] oneDNN custom operations are on. You may see slightly different numerical results due to floating-point round-off errors from different computation orders. To turn them off, set the environment variable `TF_ENABLE_ONEDNN_OPTS=0`.\n",
      "2025-02-22 22:51:30.336355: E external/local_xla/xla/stream_executor/cuda/cuda_fft.cc:477] Unable to register cuFFT factory: Attempting to register factory for plugin cuFFT when one has already been registered\n",
      "WARNING: All log messages before absl::InitializeLog() is called are written to STDERR\n",
      "E0000 00:00:1740253890.353438  421455 cuda_dnn.cc:8310] Unable to register cuDNN factory: Attempting to register factory for plugin cuDNN when one has already been registered\n",
      "E0000 00:00:1740253890.358709  421455 cuda_blas.cc:1418] Unable to register cuBLAS factory: Attempting to register factory for plugin cuBLAS when one has already been registered\n",
      "2025-02-22 22:51:30.377274: I tensorflow/core/platform/cpu_feature_guard.cc:210] This TensorFlow binary is optimized to use available CPU instructions in performance-critical operations.\n",
      "To enable the following instructions: AVX2 AVX512F AVX512_VNNI FMA, in other operations, rebuild TensorFlow with the appropriate compiler flags.\n"
     ]
    }
   ],
   "source": [
    "import os\n",
    "os.environ['CUDA_VISIBLE_DEVICES'] = \"0\"\n",
    "\n",
    "from lib import Models, Datasets, LossCalculator, Train\n"
   ]
  },
  {
   "cell_type": "code",
   "execution_count": 2,
   "metadata": {},
   "outputs": [
    {
     "name": "stdout",
     "output_type": "stream",
     "text": [
      "LlamaForCausalLM(\n",
      "  (model): LlamaModel(\n",
      "    (embed_tokens): Embedding(128256, 2048)\n",
      "    (layers): ModuleList(\n",
      "      (0-15): 16 x LlamaDecoderLayer(\n",
      "        (self_attn): LlamaAttention(\n",
      "          (q_proj): Linear(in_features=2048, out_features=2048, bias=False)\n",
      "          (k_proj): Linear(in_features=2048, out_features=512, bias=False)\n",
      "          (v_proj): Linear(in_features=2048, out_features=512, bias=False)\n",
      "          (o_proj): Linear(in_features=2048, out_features=2048, bias=False)\n",
      "        )\n",
      "        (mlp): LlamaMLP(\n",
      "          (gate_proj): Linear(in_features=2048, out_features=8192, bias=False)\n",
      "          (up_proj): Linear(in_features=2048, out_features=8192, bias=False)\n",
      "          (down_proj): Linear(in_features=8192, out_features=2048, bias=False)\n",
      "          (act_fn): SiLU()\n",
      "        )\n",
      "        (input_layernorm): LlamaRMSNorm((2048,), eps=1e-05)\n",
      "        (post_attention_layernorm): LlamaRMSNorm((2048,), eps=1e-05)\n",
      "      )\n",
      "    )\n",
      "    (norm): LlamaRMSNorm((2048,), eps=1e-05)\n",
      "    (rotary_emb): LlamaRotaryEmbedding()\n",
      "  )\n",
      "  (lm_head): Linear(in_features=2048, out_features=128256, bias=False)\n",
      ")\n"
     ]
    }
   ],
   "source": [
    "model, tokenizer = Models.LoadLLM(\"meta-llama/Llama-3.2-1B-Instruct\")\n",
    "# model, tokenizer = Models.LoadLLMLoRA(\"./logs/models/step1\")\n",
    "\n",
    "CR_train = Datasets.LoadCommonReasoning('train', 3000)\n",
    "\n",
    "print(model)\n"
   ]
  },
  {
   "cell_type": "code",
   "execution_count": 12,
   "metadata": {},
   "outputs": [
    {
     "name": "stdout",
     "output_type": "stream",
     "text": [
      "{'dataset': Dataset({\n",
      "    features: ['text', 'text_wa_answer', 'correct_answer', 'task'],\n",
      "    num_rows: 3000\n",
      "}), 'name_text': 'text'}\n"
     ]
    },
    {
     "data": {
      "application/vnd.jupyter.widget-view+json": {
       "model_id": "0ba42f9a91f34058bd02adf7e4432364",
       "version_major": 2,
       "version_minor": 0
      },
      "text/plain": [
       "Running tokenizer on dataset:   0%|          | 0/3000 [00:00<?, ? examples/s]"
      ]
     },
     "metadata": {},
     "output_type": "display_data"
    },
    {
     "name": "stderr",
     "output_type": "stream",
     "text": [
      "/home/parshina/workspace/AdaptorsResearch/lib/LossCalculator.py:98: FutureWarning: `tokenizer` is deprecated and will be removed in version 5.0.0 for `Trainer.__init__`. Use `processing_class` instead.\n",
      "  trainer = Trainer(\n"
     ]
    },
    {
     "data": {
      "text/html": [
       "\n",
       "    <div>\n",
       "      \n",
       "      <progress value='750' max='750' style='width:300px; height:20px; vertical-align: middle;'></progress>\n",
       "      [750/750 10:28]\n",
       "    </div>\n",
       "    "
      ],
      "text/plain": [
       "<IPython.core.display.HTML object>"
      ]
     },
     "metadata": {},
     "output_type": "display_data"
    },
    {
     "data": {
      "text/plain": [
       "{'eval_loss': 0.5691795349121094,\n",
       " 'eval_model_preparation_time': 0.0112,\n",
       " 'eval_accuracy': 0.5636666666666711,\n",
       " 'eval_runtime': 629.8024,\n",
       " 'eval_samples_per_second': 4.763,\n",
       " 'eval_steps_per_second': 1.191}"
      ]
     },
     "execution_count": 12,
     "metadata": {},
     "output_type": "execute_result"
    }
   ],
   "source": [
    "CR_valid = Datasets.LoadCommonReasoning('validation', 3000)\n",
    "\n",
    "print(CR_valid)\n",
    "\n",
    "LossCalculator.CalcLoss(**CR_valid, max_length=1024, model=model, tokenizer=tokenizer)"
   ]
  },
  {
   "cell_type": "code",
   "execution_count": 4,
   "metadata": {},
   "outputs": [],
   "source": [
    "# from peft import LoraConfig, TaskType, get_peft_model\n",
    "\n",
    "# peft_config = LoraConfig(task_type=TaskType.CAUSAL_LM, inference_mode=False, r=16, lora_alpha=32, lora_dropout=0.1, target_modules=['q_proj', 'k_proj', 'v_proj', 'o_proj', 'up_proj', 'down_proj'])\n",
    "# # peft_config = LoraConfig(task_type=TaskType.CAUSAL_LM, inference_mode=False, r=16, lora_alpha=32, lora_dropout=0.1, target_modules=['c_attn', 'c_proj', 'c_fc', 'c_proj'])\n",
    "\n",
    "\n",
    "# model['model'] = get_peft_model(model['model'], peft_config)\n",
    "\n",
    "# print(model['model'])\n",
    "\n",
    "# model = Models.PreparePiSSA(model, 8, 16, 0.05)\n",
    "model = Models.PrepareLoRA(model, 8, 16, 0)\n"
   ]
  },
  {
   "cell_type": "code",
   "execution_count": 5,
   "metadata": {},
   "outputs": [
    {
     "data": {
      "application/vnd.jupyter.widget-view+json": {
       "model_id": "30b56176d5574cd4a944d33047b36c5c",
       "version_major": 2,
       "version_minor": 0
      },
      "text/plain": [
       "Running tokenizer on dataset:   0%|          | 0/3000 [00:00<?, ? examples/s]"
      ]
     },
     "metadata": {},
     "output_type": "display_data"
    },
    {
     "name": "stderr",
     "output_type": "stream",
     "text": [
      "/home/parshina/workspace/AdaptorsResearch/lib/Train.py:57: FutureWarning: `tokenizer` is deprecated and will be removed in version 5.0.0 for `Trainer.__init__`. Use `processing_class` instead.\n",
      "  trainer = Trainer(\n"
     ]
    },
    {
     "data": {
      "text/html": [
       "\n",
       "    <div>\n",
       "      \n",
       "      <progress value='93' max='93' style='width:300px; height:20px; vertical-align: middle;'></progress>\n",
       "      [93/93 22:59, Epoch 0/1]\n",
       "    </div>\n",
       "    <table border=\"1\" class=\"dataframe\">\n",
       "  <thead>\n",
       " <tr style=\"text-align: left;\">\n",
       "      <th>Step</th>\n",
       "      <th>Training Loss</th>\n",
       "    </tr>\n",
       "  </thead>\n",
       "  <tbody>\n",
       "    <tr>\n",
       "      <td>10</td>\n",
       "      <td>1.207600</td>\n",
       "    </tr>\n",
       "    <tr>\n",
       "      <td>20</td>\n",
       "      <td>0.657500</td>\n",
       "    </tr>\n",
       "    <tr>\n",
       "      <td>30</td>\n",
       "      <td>0.619800</td>\n",
       "    </tr>\n",
       "    <tr>\n",
       "      <td>40</td>\n",
       "      <td>0.627800</td>\n",
       "    </tr>\n",
       "    <tr>\n",
       "      <td>50</td>\n",
       "      <td>0.552600</td>\n",
       "    </tr>\n",
       "    <tr>\n",
       "      <td>60</td>\n",
       "      <td>0.558000</td>\n",
       "    </tr>\n",
       "    <tr>\n",
       "      <td>70</td>\n",
       "      <td>0.582100</td>\n",
       "    </tr>\n",
       "    <tr>\n",
       "      <td>80</td>\n",
       "      <td>0.574900</td>\n",
       "    </tr>\n",
       "    <tr>\n",
       "      <td>90</td>\n",
       "      <td>0.519900</td>\n",
       "    </tr>\n",
       "  </tbody>\n",
       "</table><p>"
      ],
      "text/plain": [
       "<IPython.core.display.HTML object>"
      ]
     },
     "metadata": {},
     "output_type": "display_data"
    },
    {
     "data": {
      "text/plain": [
       "TrainOutput(global_step=93, training_loss=0.650404143077071, metrics={'train_runtime': 1393.9128, 'train_samples_per_second': 2.152, 'train_steps_per_second': 0.067, 'total_flos': 1.7872620431081472e+16, 'train_loss': 0.650404143077071, 'epoch': 0.992})"
      ]
     },
     "execution_count": 5,
     "metadata": {},
     "output_type": "execute_result"
    }
   ],
   "source": [
    "Train.Trains(**CR_train, max_length=1024, model=model, tokenizer=tokenizer)"
   ]
  },
  {
   "cell_type": "code",
   "execution_count": 6,
   "metadata": {},
   "outputs": [],
   "source": [
    "# LossCalculator.CalcLoss(**math, max_length=1024, count=100, model=model['model'], tokenizer=model['tokenizer'])\n",
    "\n",
    "# model_path = \"./logs/test_new/checkpoint-200\"  # Путь к папке с сохраненной моделью\n",
    "# from transformers import AutoTokenizer, AutoModelForCausalLM\n",
    "\n",
    "# t = AutoTokenizer.from_pretrained(model_path)\n",
    "# m = AutoModelForCausalLM.from_pretrained(model_path)"
   ]
  },
  {
   "cell_type": "code",
   "execution_count": 7,
   "metadata": {},
   "outputs": [
    {
     "name": "stderr",
     "output_type": "stream",
     "text": [
      "Device set to use cuda\n",
      "The model 'PeftModelForCausalLM' is not supported for text-generation. Supported models are ['AriaTextForCausalLM', 'BambaForCausalLM', 'BartForCausalLM', 'BertLMHeadModel', 'BertGenerationDecoder', 'BigBirdForCausalLM', 'BigBirdPegasusForCausalLM', 'BioGptForCausalLM', 'BlenderbotForCausalLM', 'BlenderbotSmallForCausalLM', 'BloomForCausalLM', 'CamembertForCausalLM', 'LlamaForCausalLM', 'CodeGenForCausalLM', 'CohereForCausalLM', 'Cohere2ForCausalLM', 'CpmAntForCausalLM', 'CTRLLMHeadModel', 'Data2VecTextForCausalLM', 'DbrxForCausalLM', 'DiffLlamaForCausalLM', 'ElectraForCausalLM', 'Emu3ForCausalLM', 'ErnieForCausalLM', 'FalconForCausalLM', 'FalconMambaForCausalLM', 'FuyuForCausalLM', 'GemmaForCausalLM', 'Gemma2ForCausalLM', 'GitForCausalLM', 'GlmForCausalLM', 'GPT2LMHeadModel', 'GPT2LMHeadModel', 'GPTBigCodeForCausalLM', 'GPTNeoForCausalLM', 'GPTNeoXForCausalLM', 'GPTNeoXJapaneseForCausalLM', 'GPTJForCausalLM', 'GraniteForCausalLM', 'GraniteMoeForCausalLM', 'JambaForCausalLM', 'JetMoeForCausalLM', 'LlamaForCausalLM', 'MambaForCausalLM', 'Mamba2ForCausalLM', 'MarianForCausalLM', 'MBartForCausalLM', 'MegaForCausalLM', 'MegatronBertForCausalLM', 'MistralForCausalLM', 'MixtralForCausalLM', 'MllamaForCausalLM', 'MoshiForCausalLM', 'MptForCausalLM', 'MusicgenForCausalLM', 'MusicgenMelodyForCausalLM', 'MvpForCausalLM', 'NemotronForCausalLM', 'OlmoForCausalLM', 'Olmo2ForCausalLM', 'OlmoeForCausalLM', 'OpenLlamaForCausalLM', 'OpenAIGPTLMHeadModel', 'OPTForCausalLM', 'PegasusForCausalLM', 'PersimmonForCausalLM', 'PhiForCausalLM', 'Phi3ForCausalLM', 'PhimoeForCausalLM', 'PLBartForCausalLM', 'ProphetNetForCausalLM', 'QDQBertLMHeadModel', 'Qwen2ForCausalLM', 'Qwen2MoeForCausalLM', 'RecurrentGemmaForCausalLM', 'ReformerModelWithLMHead', 'RemBertForCausalLM', 'RobertaForCausalLM', 'RobertaPreLayerNormForCausalLM', 'RoCBertForCausalLM', 'RoFormerForCausalLM', 'RwkvForCausalLM', 'Speech2Text2ForCausalLM', 'StableLmForCausalLM', 'Starcoder2ForCausalLM', 'TransfoXLLMHeadModel', 'TrOCRForCausalLM', 'WhisperForCausalLM', 'XGLMForCausalLM', 'XLMWithLMHeadModel', 'XLMProphetNetForCausalLM', 'XLMRobertaForCausalLM', 'XLMRobertaXLForCausalLM', 'XLNetLMHeadModel', 'XmodForCausalLM', 'ZambaForCausalLM'].\n"
     ]
    },
    {
     "name": "stdout",
     "output_type": "stream",
     "text": [
      "Generated text 1:\n",
      "False\n"
     ]
    }
   ],
   "source": [
    "from transformers import pipeline\n",
    "\n",
    "\n",
    "dirc = \"logs/cats_model/checkpoint-150\"\n",
    "# model, tokenizer = Models.LoadLLMLoRA(dirc)\n",
    "\n",
    "generator = pipeline(\"text-generation\", model=model, tokenizer=tokenizer)\n",
    "# generator = pipeline(\"text-generation\", model=model, tokenizer=tokenizer)\n",
    "# generator = pipeline(\"text-generation\", model=\"meta-llama/Llama-3.2-1B-Instruct\")\n",
    "\n",
    "\n",
    "\n",
    "# messages = [\n",
    "#     {\"role\": \"user\", \"content\": \"Below is an instruction that describes a task.\\nWrite a response that appropriately completes the request.\\n\\nCompute $\\dbinom{16}{5}$.\"},\n",
    "# ]\n",
    "\n",
    "messages = [\n",
    "    {\"role\": \"system\", \"content\": \"Please answer the following question with True or False. Follow the answer format, full answer not needed.\"},\n",
    "    {\"role\": \"user\", \"content\": \"Question: do iran and afghanistan speak the same language\\nAnswer format: True/False\"},\n",
    "]\n",
    "\n",
    "\n",
    "\n",
    "generated_text = generator(messages,  max_length=500, num_return_sequences=1)\n",
    "\n",
    "for i, text in enumerate(generated_text):\n",
    "    print(f\"Generated text {i + 1}:\")\n",
    "    text = text['generated_text']\n",
    "    for entry in text:\n",
    "        if entry['role'] == 'assistant':\n",
    "            print(entry['content'])\n"
   ]
  },
  {
   "cell_type": "code",
   "execution_count": 8,
   "metadata": {},
   "outputs": [
    {
     "name": "stdout",
     "output_type": "stream",
     "text": [
      "Generated text 1:\n",
      "True\n"
     ]
    }
   ],
   "source": [
    "messages = [\n",
    "    {\"role\": \"system\", \"content\": \"Please answer the following question with True or False. Follow the answer format, full answer not needed.\"},\n",
    "    {\"role\": \"user\", \"content\": \"Question: do good samaritan laws protect those who help at an accident\\nAnswer format: True/False\"},\n",
    "]\n",
    "\n",
    "\n",
    "\n",
    "generated_text = generator(messages,  max_length=500, num_return_sequences=1)\n",
    "\n",
    "for i, text in enumerate(generated_text):\n",
    "    print(f\"Generated text {i + 1}:\")\n",
    "    text = text['generated_text']\n",
    "    for entry in text:\n",
    "        if entry['role'] == 'assistant':\n",
    "            print(entry['content'])"
   ]
  },
  {
   "cell_type": "code",
   "execution_count": 9,
   "metadata": {},
   "outputs": [
    {
     "name": "stdout",
     "output_type": "stream",
     "text": [
      "Generated text 1:\n",
      "Ending0 is True. When you are anxious, your body's \"fight or flight\" response triggers an increase in heart rate, which can be mistaken for a normal heartbeat. This is often referred to as tachycardia.\n"
     ]
    }
   ],
   "source": [
    "messages = [\n",
    "    {\"role\": \"system\", \"content\": \"Please answer the following question with True or False. Follow the answer format, full answer not needed.\"},\n",
    "    {\"role\": \"user\", \"content\":\n",
    "\n",
    "\"\"\"Health. [header] How to identify performance anxiety [title] Determine if your pulse is elevated. [step] When you are anxious about a performance, your pulse will become elevated. This is your body's response to the stress and worry of your impending performance.\n",
    "Ending0: When you are anxious, your pulse will go in the opposite direction while at rest. There are several common occurrences which signal heightened blood pressure (tachycardia).\n",
    "Ending1: You may notice a shift in the way your heart rate lights up. This is called a desensitization.\n",
    "Ending2: When you are anxious about a performance, your heart rate can become elevated as you tend to perform exceptionally fast or tense. [substeps] Any heart rate that is elevated immediately determines how fast your nerves function.\n",
    "Ending3: You may hear your heat pounding in your ears if you are anxious enough. [substeps] This may also cause you to blush or your body temperature to rise.\n",
    "Answer format: Ending0/Ending1/Ending2/Ending3\"\"\"},\n",
    "]\n",
    "\n",
    "\n",
    "\n",
    "generated_text = generator(messages,  max_length=500, num_return_sequences=1)\n",
    "\n",
    "for i, text in enumerate(generated_text):\n",
    "    print(f\"Generated text {i + 1}:\")\n",
    "    text = text['generated_text']\n",
    "    for entry in text:\n",
    "        if entry['role'] == 'assistant':\n",
    "            print(entry['content'])"
   ]
  },
  {
   "cell_type": "code",
   "execution_count": 10,
   "metadata": {},
   "outputs": [
    {
     "name": "stderr",
     "output_type": "stream",
     "text": [
      "Truncation was not explicitly activated but `max_length` is provided a specific value, please use `truncation=True` to explicitly truncate examples to max length. Defaulting to 'longest_first' truncation strategy. If you encode pairs of sequences (GLUE-style) with the tokenizer you can select this strategy more precisely by providing a specific strategy to `truncation`.\n"
     ]
    },
    {
     "name": "stdout",
     "output_type": "stream",
     "text": [
      "{'generated_text': '<|begin_of_text|><|start_header_id|>system<|end_header_id|>\\n\\nCutting Knowledge Date: December 2023\\nToday Date: 18 Feb 2025\\n\\nPlease choose the correct ending to complete the given sentence. Follow the answer format, full answer not needed.<|eot_id|><|start_header_id|>user<|end_header_id|>\\n\\nHealth. [header] How to identify performance anxiety [title] Determine if your pulse is elevated. [step] When you are anxious about a performance, your pulse will become elevated. This is your body\\'s response to the stress and worry of your impending performance.\\nEnding0: When you are anxious, your pulse will go in the opposite direction while at rest. There are several common occurrences which signal heightened blood pressure (tachycardia).\\nEnding1: You may notice a shift in the way your heart rate lights up. This is called a desensitization.\\nEnding2: When you are anxious about a performance, your heart rate can become elevated as you tend to perform exceptionally fast or tense. [substeps] Any heart rate that is elevated immediately determines how fast your nerves function.\\nEnding3: You may hear your heat pounding in your ears if you are anxious enough. [substeps] This may also cause you to blush or your body temperature to rise.\\nAnswer format: Ending0/Ending1/Ending2/Ending3<|eot_id|><|start_header_id|>assistant<|end_header_id|>\\n\\nEnding0 is correct. An elevated pulse is a common indicator of stress and anxiety, and it occurs when the body\\'s \"fight or flight\" response is triggered, causing the heart rate to increase.'}\n",
      "{'generated_text': \"<|begin_of_text|><|start_header_id|>system<|end_header_id|>\\n\\nCutting Knowledge Date: December 2023\\nToday Date: 18 Feb 2025\\n\\nPlease choose the correct ending to complete the given sentence. Follow the answer format, full answer not needed.<|eot_id|><|start_header_id|>user<|end_header_id|>\\n\\nHealth. [header] How to identify performance anxiety [title] Determine if your pulse is elevated. [step] When you are anxious about a performance, your pulse will become elevated. This is your body's response to the stress and worry of your impending performance.\\nEnding0: When you are anxious, your pulse will go in the opposite direction while at rest. There are several common occurrences which signal heightened blood pressure (tachycardia).\\nEnding1: You may notice a shift in the way your heart rate lights up. This is called a desensitization.\\nEnding2: When you are anxious about a performance, your heart rate can become elevated as you tend to perform exceptionally fast or tense. [substeps] Any heart rate that is elevated immediately determines how fast your nerves function.\\nEnding3: You may hear your heat pounding in your ears if you are anxious enough. [substeps] This may also cause you to blush or your body temperature to rise.\\nAnswer format: Ending0/Ending1/Ending2/Ending3<|eot_id|><|start_header_id|>assistant<|end_header_id|>\\n\\nEnding1 is correct. When you are anxious, your heart rate increases due to the body's stress response, causing the heart to beat faster.\"}\n",
      "{'generated_text': \"<|begin_of_text|><|start_header_id|>system<|end_header_id|>\\n\\nCutting Knowledge Date: December 2023\\nToday Date: 18 Feb 2025\\n\\nPlease choose the correct ending to complete the given sentence. Follow the answer format, full answer not needed.<|eot_id|><|start_header_id|>user<|end_header_id|>\\n\\nHealth. [header] How to identify performance anxiety [title] Determine if your pulse is elevated. [step] When you are anxious about a performance, your pulse will become elevated. This is your body's response to the stress and worry of your impending performance.\\nEnding0: When you are anxious, your pulse will go in the opposite direction while at rest. There are several common occurrences which signal heightened blood pressure (tachycardia).\\nEnding1: You may notice a shift in the way your heart rate lights up. This is called a desensitization.\\nEnding2: When you are anxious about a performance, your heart rate can become elevated as you tend to perform exceptionally fast or tense. [substeps] Any heart rate that is elevated immediately determines how fast your nerves function.\\nEnding3: You may hear your heat pounding in your ears if you are anxious enough. [substeps] This may also cause you to blush or your body temperature to rise.\\nAnswer format: Ending0/Ending1/Ending2/Ending3<|eot_id|><|start_header_id|>assistant<|end_header_id|>\\n\\nEnding1 is the correct answer. When you are anxious, your body responds by increasing your heart rate, which can be measured as tachycardia. This is a normal response to stress, and it's a common symptom of anxiety.\"}\n",
      "{'generated_text': \"<|begin_of_text|><|start_header_id|>system<|end_header_id|>\\n\\nCutting Knowledge Date: December 2023\\nToday Date: 18 Feb 2025\\n\\nPlease choose the correct ending to complete the given sentence. Follow the answer format, full answer not needed.<|eot_id|><|start_header_id|>user<|end_header_id|>\\n\\nHealth. [header] How to identify performance anxiety [title] Determine if your pulse is elevated. [step] When you are anxious about a performance, your pulse will become elevated. This is your body's response to the stress and worry of your impending performance.\\nEnding0: When you are anxious, your pulse will go in the opposite direction while at rest. There are several common occurrences which signal heightened blood pressure (tachycardia).\\nEnding1: You may notice a shift in the way your heart rate lights up. This is called a desensitization.\\nEnding2: When you are anxious about a performance, your heart rate can become elevated as you tend to perform exceptionally fast or tense. [substeps] Any heart rate that is elevated immediately determines how fast your nerves function.\\nEnding3: You may hear your heat pounding in your ears if you are anxious enough. [substeps] This may also cause you to blush or your body temperature to rise.\\nAnswer format: Ending0/Ending1/Ending2/Ending3<|eot_id|><|start_header_id|>assistant<|end_header_id|>\\n\\nEnding2 is incorrect because when you are anxious, your heart rate is not typically elevated. Ending3 is incorrect because hearing a heart pounding in your ears is a symptom of anxiety, not a response to it. Ending0 is incorrect because when you are at rest, your heart rate is not elevated.\"}\n",
      "{'generated_text': \"<|begin_of_text|><|start_header_id|>system<|end_header_id|>\\n\\nCutting Knowledge Date: December 2023\\nToday Date: 18 Feb 2025\\n\\nPlease choose the correct ending to complete the given sentence. Follow the answer format, full answer not needed.<|eot_id|><|start_header_id|>user<|end_header_id|>\\n\\nHealth. [header] How to identify performance anxiety [title] Determine if your pulse is elevated. [step] When you are anxious about a performance, your pulse will become elevated. This is your body's response to the stress and worry of your impending performance.\\nEnding0: When you are anxious, your pulse will go in the opposite direction while at rest. There are several common occurrences which signal heightened blood pressure (tachycardia).\\nEnding1: You may notice a shift in the way your heart rate lights up. This is called a desensitization.\\nEnding2: When you are anxious about a performance, your heart rate can become elevated as you tend to perform exceptionally fast or tense. [substeps] Any heart rate that is elevated immediately determines how fast your nerves function.\\nEnding3: You may hear your heat pounding in your ears if you are anxious enough. [substeps] This may also cause you to blush or your body temperature to rise.\\nAnswer format: Ending0/Ending1/Ending2/Ending3<|eot_id|><|start_header_id|>assistant<|end_header_id|>\\n\\nEnding1 is incorrect because when you are anxious, your pulse typically increases, not decreases, as your body prepares for the stress response. Ending2 is incorrect because the heart rate is not directly related to the performance anxiety, but rather to the nervous system's response to stress. Ending3 is incorrect because the heat in the ears is a symptom of anxiety, not a direct indicator of elevated pulse.\"}\n",
      "{'generated_text': \"<|begin_of_text|><|start_header_id|>system<|end_header_id|>\\n\\nCutting Knowledge Date: December 2023\\nToday Date: 18 Feb 2025\\n\\nPlease choose the correct ending to complete the given sentence. Follow the answer format, full answer not needed.<|eot_id|><|start_header_id|>user<|end_header_id|>\\n\\nHealth. [header] How to identify performance anxiety [title] Determine if your pulse is elevated. [step] When you are anxious about a performance, your pulse will become elevated. This is your body's response to the stress and worry of your impending performance.\\nEnding0: When you are anxious, your pulse will go in the opposite direction while at rest. There are several common occurrences which signal heightened blood pressure (tachycardia).\\nEnding1: You may notice a shift in the way your heart rate lights up. This is called a desensitization.\\nEnding2: When you are anxious about a performance, your heart rate can become elevated as you tend to perform exceptionally fast or tense. [substeps] Any heart rate that is elevated immediately determines how fast your nerves function.\\nEnding3: You may hear your heat pounding in your ears if you are anxious enough. [substeps] This may also cause you to blush or your body temperature to rise.\\nAnswer format: Ending0/Ending1/Ending2/Ending3<|eot_id|><|start_header_id|>assistant<|end_header_id|>\\n\\nEnding2 is the correct answer. When you are anxious, your heart rate tends to increase, which can lead to a faster heart rate.\"}\n",
      "{'generated_text': \"<|begin_of_text|><|start_header_id|>system<|end_header_id|>\\n\\nCutting Knowledge Date: December 2023\\nToday Date: 18 Feb 2025\\n\\nPlease choose the correct ending to complete the given sentence. Follow the answer format, full answer not needed.<|eot_id|><|start_header_id|>user<|end_header_id|>\\n\\nHealth. [header] How to identify performance anxiety [title] Determine if your pulse is elevated. [step] When you are anxious about a performance, your pulse will become elevated. This is your body's response to the stress and worry of your impending performance.\\nEnding0: When you are anxious, your pulse will go in the opposite direction while at rest. There are several common occurrences which signal heightened blood pressure (tachycardia).\\nEnding1: You may notice a shift in the way your heart rate lights up. This is called a desensitization.\\nEnding2: When you are anxious about a performance, your heart rate can become elevated as you tend to perform exceptionally fast or tense. [substeps] Any heart rate that is elevated immediately determines how fast your nerves function.\\nEnding3: You may hear your heat pounding in your ears if you are anxious enough. [substeps] This may also cause you to blush or your body temperature to rise.\\nAnswer format: Ending0/Ending1/Ending2/Ending3<|eot_id|><|start_header_id|>assistant<|end_header_id|>\\n\\nEnding0 is incorrect because, in general, when you are anxious, your pulse will increase, not decrease. Ending1 is incorrect because desensitization is a process of becoming less reactive to a stimulus, not a change in heart rate. Ending2 is incorrect because the relationship between heart rate and performance anxiety is not directly related to the speed of the heart. Ending3 is incorrect because while it is true that a racing heart may cause physical symptoms like heat and flushing, it is not a reliable indicator of elevated blood pressure.\"}\n",
      "{'generated_text': '<|begin_of_text|><|start_header_id|>system<|end_header_id|>\\n\\nCutting Knowledge Date: December 2023\\nToday Date: 18 Feb 2025\\n\\nPlease choose the correct ending to complete the given sentence. Follow the answer format, full answer not needed.<|eot_id|><|start_header_id|>user<|end_header_id|>\\n\\nHealth. [header] How to identify performance anxiety [title] Determine if your pulse is elevated. [step] When you are anxious about a performance, your pulse will become elevated. This is your body\\'s response to the stress and worry of your impending performance.\\nEnding0: When you are anxious, your pulse will go in the opposite direction while at rest. There are several common occurrences which signal heightened blood pressure (tachycardia).\\nEnding1: You may notice a shift in the way your heart rate lights up. This is called a desensitization.\\nEnding2: When you are anxious about a performance, your heart rate can become elevated as you tend to perform exceptionally fast or tense. [substeps] Any heart rate that is elevated immediately determines how fast your nerves function.\\nEnding3: You may hear your heat pounding in your ears if you are anxious enough. [substeps] This may also cause you to blush or your body temperature to rise.\\nAnswer format: Ending0/Ending1/Ending2/Ending3<|eot_id|><|start_header_id|>assistant<|end_header_id|>\\n\\nEnding1 is the correct answer. The body\\'s \"fight or flight\" response is triggered by stress and anxiety, causing an increase in heart rate and blood pressure, which is often referred to as tachycardia.'}\n",
      "{'generated_text': \"<|begin_of_text|><|start_header_id|>system<|end_header_id|>\\n\\nCutting Knowledge Date: December 2023\\nToday Date: 18 Feb 2025\\n\\nPlease choose the correct ending to complete the given sentence. Follow the answer format, full answer not needed.<|eot_id|><|start_header_id|>user<|end_header_id|>\\n\\nHealth. [header] How to identify performance anxiety [title] Determine if your pulse is elevated. [step] When you are anxious about a performance, your pulse will become elevated. This is your body's response to the stress and worry of your impending performance.\\nEnding0: When you are anxious, your pulse will go in the opposite direction while at rest. There are several common occurrences which signal heightened blood pressure (tachycardia).\\nEnding1: You may notice a shift in the way your heart rate lights up. This is called a desensitization.\\nEnding2: When you are anxious about a performance, your heart rate can become elevated as you tend to perform exceptionally fast or tense. [substeps] Any heart rate that is elevated immediately determines how fast your nerves function.\\nEnding3: You may hear your heat pounding in your ears if you are anxious enough. [substeps] This may also cause you to blush or your body temperature to rise.\\nAnswer format: Ending0/Ending1/Ending2/Ending3<|eot_id|><|start_header_id|>assistant<|end_header_id|>\\n\\nEnding2 is correct. When you are anxious, your heart rate can become elevated due to the body's stress response, which is a result of the nervous system's attempt to increase blood flow to the muscles. This is a physiological response, not a psychological one.\"}\n",
      "{'generated_text': \"<|begin_of_text|><|start_header_id|>system<|end_header_id|>\\n\\nCutting Knowledge Date: December 2023\\nToday Date: 18 Feb 2025\\n\\nPlease choose the correct ending to complete the given sentence. Follow the answer format, full answer not needed.<|eot_id|><|start_header_id|>user<|end_header_id|>\\n\\nHealth. [header] How to identify performance anxiety [title] Determine if your pulse is elevated. [step] When you are anxious about a performance, your pulse will become elevated. This is your body's response to the stress and worry of your impending performance.\\nEnding0: When you are anxious, your pulse will go in the opposite direction while at rest. There are several common occurrences which signal heightened blood pressure (tachycardia).\\nEnding1: You may notice a shift in the way your heart rate lights up. This is called a desensitization.\\nEnding2: When you are anxious about a performance, your heart rate can become elevated as you tend to perform exceptionally fast or tense. [substeps] Any heart rate that is elevated immediately determines how fast your nerves function.\\nEnding3: You may hear your heat pounding in your ears if you are anxious enough. [substeps] This may also cause you to blush or your body temperature to rise.\\nAnswer format: Ending0/Ending1/Ending2/Ending3<|eot_id|><|start_header_id|>assistant<|end_header_id|>\\n\\nEnding3 is correct.\"}\n"
     ]
    }
   ],
   "source": [
    "messages = \"\"\"<|begin_of_text|><|start_header_id|>system<|end_header_id|>\n",
    "\n",
    "Cutting Knowledge Date: December 2023\n",
    "Today Date: 18 Feb 2025\n",
    "\n",
    "Please choose the correct ending to complete the given sentence. Follow the answer format, full answer not needed.<|eot_id|><|start_header_id|>user<|end_header_id|>\n",
    "\n",
    "Health. [header] How to identify performance anxiety [title] Determine if your pulse is elevated. [step] When you are anxious about a performance, your pulse will become elevated. This is your body's response to the stress and worry of your impending performance.\n",
    "Ending0: When you are anxious, your pulse will go in the opposite direction while at rest. There are several common occurrences which signal heightened blood pressure (tachycardia).\n",
    "Ending1: You may notice a shift in the way your heart rate lights up. This is called a desensitization.\n",
    "Ending2: When you are anxious about a performance, your heart rate can become elevated as you tend to perform exceptionally fast or tense. [substeps] Any heart rate that is elevated immediately determines how fast your nerves function.\n",
    "Ending3: You may hear your heat pounding in your ears if you are anxious enough. [substeps] This may also cause you to blush or your body temperature to rise.\n",
    "Answer format: Ending0/Ending1/Ending2/Ending3<|eot_id|><|start_header_id|>assistant<|end_header_id|>\"\"\"\n",
    "\n",
    "\n",
    "\n",
    "generated_text = generator(messages,  max_length=500, num_return_sequences=10)\n",
    "\n",
    "for i in range(10):\n",
    "    n = len(generated_text[i]['generated_text'])\n",
    "    print(generated_text[i])\n"
   ]
  },
  {
   "cell_type": "code",
   "execution_count": 11,
   "metadata": {},
   "outputs": [
    {
     "data": {
      "text/plain": [
       "('./logs/models/step2/tokenizer_config.json',\n",
       " './logs/models/step2/special_tokens_map.json',\n",
       " './logs/models/step2/tokenizer.json')"
      ]
     },
     "execution_count": 11,
     "metadata": {},
     "output_type": "execute_result"
    }
   ],
   "source": [
    "model.save_pretrained('./logs/models/step2')\n",
    "tokenizer.save_pretrained('./logs/models/step2')"
   ]
  },
  {
   "cell_type": "code",
   "execution_count": null,
   "metadata": {},
   "outputs": [],
   "source": []
  }
 ],
 "metadata": {
  "kernelspec": {
   "display_name": "Python 3",
   "language": "python",
   "name": "python3"
  },
  "language_info": {
   "codemirror_mode": {
    "name": "ipython",
    "version": 3
   },
   "file_extension": ".py",
   "mimetype": "text/x-python",
   "name": "python",
   "nbconvert_exporter": "python",
   "pygments_lexer": "ipython3",
   "version": "3.10.12"
  }
 },
 "nbformat": 4,
 "nbformat_minor": 2
}
