{
 "cells": [
  {
   "cell_type": "code",
   "execution_count": 1,
   "metadata": {},
   "outputs": [
    {
     "name": "stderr",
     "output_type": "stream",
     "text": [
      "2025-03-01 18:37:34.011629: I tensorflow/core/util/port.cc:153] oneDNN custom operations are on. You may see slightly different numerical results due to floating-point round-off errors from different computation orders. To turn them off, set the environment variable `TF_ENABLE_ONEDNN_OPTS=0`.\n",
      "2025-03-01 18:37:34.026699: E external/local_xla/xla/stream_executor/cuda/cuda_fft.cc:477] Unable to register cuFFT factory: Attempting to register factory for plugin cuFFT when one has already been registered\n",
      "WARNING: All log messages before absl::InitializeLog() is called are written to STDERR\n",
      "E0000 00:00:1740843454.043170  600690 cuda_dnn.cc:8310] Unable to register cuDNN factory: Attempting to register factory for plugin cuDNN when one has already been registered\n",
      "E0000 00:00:1740843454.048084  600690 cuda_blas.cc:1418] Unable to register cuBLAS factory: Attempting to register factory for plugin cuBLAS when one has already been registered\n",
      "2025-03-01 18:37:34.065855: I tensorflow/core/platform/cpu_feature_guard.cc:210] This TensorFlow binary is optimized to use available CPU instructions in performance-critical operations.\n",
      "To enable the following instructions: AVX2 AVX512F AVX512_VNNI FMA, in other operations, rebuild TensorFlow with the appropriate compiler flags.\n"
     ]
    }
   ],
   "source": [
    "from peft import PeftConfig\n",
    "from peft import PeftConfig, PeftModel\n",
    "from transformers import AutoModelForCausalLM, AutoTokenizer\n",
    "import torch.nn as nn"
   ]
  },
  {
   "cell_type": "code",
   "execution_count": null,
   "metadata": {},
   "outputs": [],
   "source": [
    "from peft import PeftModel\n",
    "\n",
    "from peft import PeftConfig, PeftModel\n",
    "from transformers import AutoModelForCausalLM, AutoTokenizer\n",
    "import torch.nn as nn\n",
    "\n",
    "from peft import PeftConfig, PeftModel\n",
    "from transformers import AutoModelForCausalLM\n",
    "import torch.nn as nn\n",
    "\n",
    "class MyAdapterConfig(PeftConfig):\n",
    "    def __init__(self, custom_param=None, **kwargs):\n",
    "        super().__init__(**kwargs)\n",
    "        self.peft_type = \"MY_ADAPTER\"\n",
    "        self.custom_param = custom_param\n",
    "\n",
    "    @staticmethod\n",
    "    def from_dict(obj):\n",
    "        return MyAdapterConfig(**obj)\n",
    "\n",
    "    def to_dict(self):\n",
    "        return {\n",
    "            **super().to_dict(),\n",
    "            \"custom_param\": self.custom_param,\n",
    "        }\n",
    "\n",
    "class MyAdapterModel(PeftModel):\n",
    "    def __init__(self, model, peft_config):\n",
    "        super(PeftModel, self).__init__()\n",
    "        self.base_model = model\n",
    "        self.peft_config = peft_config\n",
    "        self.config = model.config\n",
    "        self._is_trainable = True  # Установите этот флаг при необходимости\n",
    "\n",
    "        # Ваша модификация слоев модели\n",
    "        transformer_layers = self.base_model.transformer.h\n",
    "\n",
    "        for idx, layer in enumerate(transformer_layers):\n",
    "            modified_layer = nn.Sequential(\n",
    "                layer,\n",
    "                nn.Linear(self.base_model.config.hidden_size, self.base_model.config.hidden_size)\n",
    "            )\n",
    "            transformer_layers[idx] = modified_layer\n",
    "            \n",
    "    def save_pretrained(self, save_directory):\n",
    "    # Сохраните конфигурацию адаптера\n",
    "        self.peft_config.save_pretrained(save_directory)\n",
    "    # Сохраните веса модели\n",
    "        self.base_model.save_pretrained(save_directory)\n",
    "        \n",
    "    @classmethod\n",
    "    def from_pretrained(cls, pretrained_model_name_or_path, *model_args, **kwargs):\n",
    "    # Загрузите конфигурацию адаптера\n",
    "        peft_config = MyAdapterConfig.from_pretrained(pretrained_model_name_or_path)\n",
    "    # Загрузите базовую модель\n",
    "        base_model = AutoModelForCausalLM.from_pretrained(pretrained_model_name_or_path, *model_args, **kwargs)\n",
    "    # Создайте экземпляр вашей модели\n",
    "        model = cls(base_model, peft_config)\n",
    "        return model\n",
    "\n",
    "    def forward(self, *args, **kwargs):\n",
    "        return self.base_model(*args, **kwargs)"
   ]
  },
  {
   "cell_type": "code",
   "execution_count": 3,
   "metadata": {},
   "outputs": [
    {
     "ename": "AttributeError",
     "evalue": "'GPT2LMHeadModel' object has no attribute '_is_prompt_learning'",
     "output_type": "error",
     "traceback": [
      "\u001b[0;31m---------------------------------------------------------------------------\u001b[0m",
      "\u001b[0;31mAttributeError\u001b[0m                            Traceback (most recent call last)",
      "File \u001b[0;32m~/.local/lib/python3.10/site-packages/peft/peft_model.py:824\u001b[0m, in \u001b[0;36mPeftModel.__getattr__\u001b[0;34m(self, name)\u001b[0m\n\u001b[1;32m    823\u001b[0m \u001b[38;5;28;01mtry\u001b[39;00m:\n\u001b[0;32m--> 824\u001b[0m     \u001b[38;5;28;01mreturn\u001b[39;00m \u001b[38;5;28;43msuper\u001b[39;49m\u001b[43m(\u001b[49m\u001b[43m)\u001b[49m\u001b[38;5;241;43m.\u001b[39;49m\u001b[38;5;21;43m__getattr__\u001b[39;49m\u001b[43m(\u001b[49m\u001b[43mname\u001b[49m\u001b[43m)\u001b[49m  \u001b[38;5;66;03m# defer to nn.Module's logic\u001b[39;00m\n\u001b[1;32m    825\u001b[0m \u001b[38;5;28;01mexcept\u001b[39;00m \u001b[38;5;167;01mAttributeError\u001b[39;00m:\n",
      "File \u001b[0;32m~/.local/lib/python3.10/site-packages/torch/nn/modules/module.py:1931\u001b[0m, in \u001b[0;36mModule.__getattr__\u001b[0;34m(self, name)\u001b[0m\n\u001b[1;32m   1930\u001b[0m         \u001b[38;5;28;01mreturn\u001b[39;00m modules[name]\n\u001b[0;32m-> 1931\u001b[0m \u001b[38;5;28;01mraise\u001b[39;00m \u001b[38;5;167;01mAttributeError\u001b[39;00m(\n\u001b[1;32m   1932\u001b[0m     \u001b[38;5;124mf\u001b[39m\u001b[38;5;124m\"\u001b[39m\u001b[38;5;124m'\u001b[39m\u001b[38;5;132;01m{\u001b[39;00m\u001b[38;5;28mtype\u001b[39m(\u001b[38;5;28mself\u001b[39m)\u001b[38;5;241m.\u001b[39m\u001b[38;5;18m__name__\u001b[39m\u001b[38;5;132;01m}\u001b[39;00m\u001b[38;5;124m'\u001b[39m\u001b[38;5;124m object has no attribute \u001b[39m\u001b[38;5;124m'\u001b[39m\u001b[38;5;132;01m{\u001b[39;00mname\u001b[38;5;132;01m}\u001b[39;00m\u001b[38;5;124m'\u001b[39m\u001b[38;5;124m\"\u001b[39m\n\u001b[1;32m   1933\u001b[0m )\n",
      "\u001b[0;31mAttributeError\u001b[0m: 'MyAdapterModel' object has no attribute '_is_prompt_learning'",
      "\nDuring handling of the above exception, another exception occurred:\n",
      "\u001b[0;31mAttributeError\u001b[0m                            Traceback (most recent call last)",
      "Cell \u001b[0;32mIn[3], line 10\u001b[0m\n\u001b[1;32m      7\u001b[0m peft_config \u001b[38;5;241m=\u001b[39m MyAdapterConfig(custom_param\u001b[38;5;241m=\u001b[39m\u001b[38;5;124m\"\u001b[39m\u001b[38;5;124mvalue\u001b[39m\u001b[38;5;124m\"\u001b[39m)\n\u001b[1;32m      9\u001b[0m \u001b[38;5;66;03m# Оберните базовую модель вашим адаптером\u001b[39;00m\n\u001b[0;32m---> 10\u001b[0m model \u001b[38;5;241m=\u001b[39m \u001b[43mMyAdapterModel\u001b[49m\u001b[43m(\u001b[49m\u001b[43mbase_model\u001b[49m\u001b[43m,\u001b[49m\u001b[43m \u001b[49m\u001b[43mpeft_config\u001b[49m\u001b[43m)\u001b[49m\n",
      "Cell \u001b[0;32mIn[2], line 31\u001b[0m, in \u001b[0;36mMyAdapterModel.__init__\u001b[0;34m(self, model, peft_config)\u001b[0m\n\u001b[1;32m     29\u001b[0m \u001b[38;5;28msuper\u001b[39m(PeftModel, \u001b[38;5;28mself\u001b[39m)\u001b[38;5;241m.\u001b[39m\u001b[38;5;21m__init__\u001b[39m()\n\u001b[1;32m     30\u001b[0m \u001b[38;5;28mself\u001b[39m\u001b[38;5;241m.\u001b[39mbase_model \u001b[38;5;241m=\u001b[39m model\n\u001b[0;32m---> 31\u001b[0m \u001b[38;5;28;43mself\u001b[39;49m\u001b[38;5;241;43m.\u001b[39;49m\u001b[43mpeft_config\u001b[49m \u001b[38;5;241m=\u001b[39m peft_config\n\u001b[1;32m     32\u001b[0m \u001b[38;5;28mself\u001b[39m\u001b[38;5;241m.\u001b[39mconfig \u001b[38;5;241m=\u001b[39m model\u001b[38;5;241m.\u001b[39mconfig\n\u001b[1;32m     33\u001b[0m \u001b[38;5;28mself\u001b[39m\u001b[38;5;241m.\u001b[39m_is_trainable \u001b[38;5;241m=\u001b[39m \u001b[38;5;28;01mTrue\u001b[39;00m  \u001b[38;5;66;03m# Установите этот флаг при необходимости\u001b[39;00m\n",
      "File \u001b[0;32m~/.local/lib/python3.10/site-packages/torch/nn/modules/module.py:2032\u001b[0m, in \u001b[0;36mModule.__setattr__\u001b[0;34m(self, name, value)\u001b[0m\n\u001b[1;32m   2029\u001b[0m             \u001b[38;5;28mself\u001b[39m\u001b[38;5;241m.\u001b[39mregister_buffer(name, value)\n\u001b[1;32m   2030\u001b[0m     \u001b[38;5;66;03m# === HACK END ===\u001b[39;00m\n\u001b[1;32m   2031\u001b[0m \u001b[38;5;28;01melse\u001b[39;00m:\n\u001b[0;32m-> 2032\u001b[0m     \u001b[38;5;28;43msuper\u001b[39;49m\u001b[43m(\u001b[49m\u001b[43m)\u001b[49m\u001b[38;5;241;43m.\u001b[39;49m\u001b[38;5;21;43m__setattr__\u001b[39;49m\u001b[43m(\u001b[49m\u001b[43mname\u001b[49m\u001b[43m,\u001b[49m\u001b[43m \u001b[49m\u001b[43mvalue\u001b[49m\u001b[43m)\u001b[49m\n",
      "File \u001b[0;32m~/.local/lib/python3.10/site-packages/peft/peft_model.py:220\u001b[0m, in \u001b[0;36mPeftModel.peft_config\u001b[0;34m(self, value)\u001b[0m\n\u001b[1;32m    218\u001b[0m \u001b[38;5;129m@peft_config\u001b[39m\u001b[38;5;241m.\u001b[39msetter\n\u001b[1;32m    219\u001b[0m \u001b[38;5;28;01mdef\u001b[39;00m\u001b[38;5;250m \u001b[39m\u001b[38;5;21mpeft_config\u001b[39m(\u001b[38;5;28mself\u001b[39m, value: \u001b[38;5;28mdict\u001b[39m[\u001b[38;5;28mstr\u001b[39m, PeftConfig]):\n\u001b[0;32m--> 220\u001b[0m     \u001b[38;5;28;01mif\u001b[39;00m \u001b[38;5;28;43mself\u001b[39;49m\u001b[38;5;241;43m.\u001b[39;49m\u001b[43m_is_prompt_learning\u001b[49m:\n\u001b[1;32m    221\u001b[0m         \u001b[38;5;28mself\u001b[39m\u001b[38;5;241m.\u001b[39m_peft_config \u001b[38;5;241m=\u001b[39m value\n\u001b[1;32m    222\u001b[0m     \u001b[38;5;28;01melse\u001b[39;00m:\n",
      "File \u001b[0;32m~/.local/lib/python3.10/site-packages/peft/peft_model.py:828\u001b[0m, in \u001b[0;36mPeftModel.__getattr__\u001b[0;34m(self, name)\u001b[0m\n\u001b[1;32m    826\u001b[0m \u001b[38;5;28;01mif\u001b[39;00m name \u001b[38;5;241m==\u001b[39m \u001b[38;5;124m\"\u001b[39m\u001b[38;5;124mbase_model\u001b[39m\u001b[38;5;124m\"\u001b[39m:  \u001b[38;5;66;03m# see #1892: prevent infinite recursion if class is not initialized\u001b[39;00m\n\u001b[1;32m    827\u001b[0m     \u001b[38;5;28;01mraise\u001b[39;00m\n\u001b[0;32m--> 828\u001b[0m \u001b[38;5;28;01mreturn\u001b[39;00m \u001b[38;5;28;43mgetattr\u001b[39;49m\u001b[43m(\u001b[49m\u001b[38;5;28;43mself\u001b[39;49m\u001b[38;5;241;43m.\u001b[39;49m\u001b[43mbase_model\u001b[49m\u001b[43m,\u001b[49m\u001b[43m \u001b[49m\u001b[43mname\u001b[49m\u001b[43m)\u001b[49m\n",
      "File \u001b[0;32m~/.local/lib/python3.10/site-packages/torch/nn/modules/module.py:1931\u001b[0m, in \u001b[0;36mModule.__getattr__\u001b[0;34m(self, name)\u001b[0m\n\u001b[1;32m   1929\u001b[0m     \u001b[38;5;28;01mif\u001b[39;00m name \u001b[38;5;129;01min\u001b[39;00m modules:\n\u001b[1;32m   1930\u001b[0m         \u001b[38;5;28;01mreturn\u001b[39;00m modules[name]\n\u001b[0;32m-> 1931\u001b[0m \u001b[38;5;28;01mraise\u001b[39;00m \u001b[38;5;167;01mAttributeError\u001b[39;00m(\n\u001b[1;32m   1932\u001b[0m     \u001b[38;5;124mf\u001b[39m\u001b[38;5;124m\"\u001b[39m\u001b[38;5;124m'\u001b[39m\u001b[38;5;132;01m{\u001b[39;00m\u001b[38;5;28mtype\u001b[39m(\u001b[38;5;28mself\u001b[39m)\u001b[38;5;241m.\u001b[39m\u001b[38;5;18m__name__\u001b[39m\u001b[38;5;132;01m}\u001b[39;00m\u001b[38;5;124m'\u001b[39m\u001b[38;5;124m object has no attribute \u001b[39m\u001b[38;5;124m'\u001b[39m\u001b[38;5;132;01m{\u001b[39;00mname\u001b[38;5;132;01m}\u001b[39;00m\u001b[38;5;124m'\u001b[39m\u001b[38;5;124m\"\u001b[39m\n\u001b[1;32m   1933\u001b[0m )\n",
      "\u001b[0;31mAttributeError\u001b[0m: 'GPT2LMHeadModel' object has no attribute '_is_prompt_learning'"
     ]
    }
   ],
   "source": [
    "from transformers import AutoModelForCausalLM\n",
    "\n",
    "base_model = AutoModelForCausalLM.from_pretrained(\"gpt2\")\n",
    "tokenizer = AutoTokenizer.from_pretrained(\"gpt2\")\n",
    "\n",
    "# Создайте конфигурацию адаптера\n",
    "peft_config = MyAdapterConfig(custom_param=\"value\")\n",
    "\n",
    "# Оберните базовую модель вашим адаптером\n",
    "model = MyAdapterModel(base_model, peft_config)"
   ]
  },
  {
   "cell_type": "code",
   "execution_count": null,
   "metadata": {},
   "outputs": [],
   "source": [
    "print(model)"
   ]
  },
  {
   "cell_type": "code",
   "execution_count": null,
   "metadata": {},
   "outputs": [],
   "source": [
    "model.save_pretrained(\"path_to_save\")"
   ]
  },
  {
   "cell_type": "code",
   "execution_count": null,
   "metadata": {},
   "outputs": [],
   "source": [
    "from peft import PeftConfig\n",
    "\n",
    "# Загрузите конфигурацию адаптера\n",
    "peft_config = PeftConfig.from_pretrained(\"path_to_save\")\n",
    "\n",
    "# Загрузите базовую модель\n",
    "base_model = AutoModelForCausalLM.from_pretrained(\"gpt2\")\n",
    "\n",
    "# Проверьте тип адаптера и загрузите модель соответствующим образом\n",
    "if peft_config.peft_type == \"MY_ADAPTER\":\n",
    "    model = MyAdapterModel(base_model, peft_config)\n",
    "else:\n",
    "    model = PeftModel.from_pretrained(base_model, \"path_to_save\")"
   ]
  },
  {
   "cell_type": "code",
   "execution_count": 3,
   "metadata": {},
   "outputs": [
    {
     "name": "stdout",
     "output_type": "stream",
     "text": [
      "Shapes:\n",
      "U_mod: torch.Size([8, 2])\n",
      "V_mod: torch.Size([2, 4])\n"
     ]
    }
   ],
   "source": [
    "import torch\n",
    "\n",
    "def PISSA(W, r):\n",
    "    # Проверка r на допустимость\n",
    "    min_dim = min(W.shape)\n",
    "    if r > min_dim:\n",
    "        raise ValueError(f\"Ранг r не может быть больше минимального измерения матрицы ({min_dim}).\")\n",
    "\n",
    "    # Вычисляем сингулярное разложение матрицы W\n",
    "    U, S, Vh = torch.linalg.svd(W, full_matrices=False)\n",
    "    \n",
    "    # Обрезаем сингулярные значения и векторы до ранга r\n",
    "    U_r = U[:, :r]\n",
    "    S_r = S[:r]\n",
    "    Vh_r = Vh[:r, :]\n",
    "    \n",
    "    # Раскладываем сингулярные значения по U и V с использованием квадратного корня\n",
    "    S_root = torch.sqrt(S_r)\n",
    "    \n",
    "    # Умножение с правильными размерностями\n",
    "    U_mod = U_r @ torch.diag_embed(S_root)\n",
    "    V_mod = torch.diag_embed(S_root) @ Vh_r\n",
    "\n",
    "    return U_mod, V_mod\n",
    "\n",
    "# Пример вызова функции\n",
    "W = torch.randn(8, 4)  # Пример 8x4 матрицы\n",
    "r = 2  # Указываем ранг\n",
    "U_mod, V_mod = PISSA(W, r)\n",
    "\n",
    "print(\"Shapes:\")\n",
    "print(\"U_mod:\", U_mod.shape)\n",
    "print(\"V_mod:\", V_mod.shape)"
   ]
  },
  {
   "cell_type": "code",
   "execution_count": 18,
   "metadata": {},
   "outputs": [
    {
     "name": "stdout",
     "output_type": "stream",
     "text": [
      "tensor([[[-1.5443, -1.3908,  0.6518, -3.3188,  0.4085],\n",
      "         [ 1.6499,  0.0765, -2.7106, -3.1296,  0.3357],\n",
      "         [ 0.8834,  3.0060,  1.7151,  1.6291,  0.1424]],\n",
      "\n",
      "        [[ 0.2220,  1.8592,  0.9303,  2.6423, -0.2677],\n",
      "         [ 0.0930,  4.7357,  0.6181,  0.6838, -0.0851],\n",
      "         [ 1.9090, -0.7330, -1.9167,  1.6740, -0.2512]]])\n",
      "\n",
      "\n",
      "tensor([[[-1.5443, -1.3908,  0.6518, -3.3188,  0.4085],\n",
      "         [ 1.6499,  0.0765, -2.7106, -3.1296,  0.3357],\n",
      "         [ 0.8834,  3.0060,  1.7151,  1.6291,  0.1424]],\n",
      "\n",
      "        [[ 0.2220,  1.8592,  0.9303,  2.6423, -0.2677],\n",
      "         [ 0.0930,  4.7357,  0.6181,  0.6838, -0.0851],\n",
      "         [ 1.9090, -0.7330, -1.9167,  1.6740, -0.2512]]],\n",
      "       grad_fn=<ViewBackward0>)\n"
     ]
    }
   ],
   "source": [
    "import torch\n",
    "import torch.nn as nn\n",
    "\n",
    "X = torch.randn(2, 3, 4)\n",
    "\n",
    "W = torch.randn(5, 4)\n",
    "\n",
    "linear_layer = nn.Linear(4, 5)\n",
    "\n",
    "with torch.no_grad():\n",
    "    linear_layer.weight.copy_(W)\n",
    "    linear_layer.bias.zero_()       # Обнуляем смещение\n",
    "\n",
    "print(X @ W.T)\n",
    "print()\n",
    "print()\n",
    "print(linear_layer(X))\n",
    "\n",
    "# X = X.permute(2, 1, 0).reshape(4, 2 * 3)\n",
    "# W = W.T\n",
    "\n",
    "# print(X.shape, W.shape)\n",
    "\n",
    "# print(W @ X)\n"
   ]
  },
  {
   "cell_type": "code",
   "execution_count": null,
   "metadata": {},
   "outputs": [],
   "source": []
  }
 ],
 "metadata": {
  "kernelspec": {
   "display_name": "Python 3",
   "language": "python",
   "name": "python3"
  },
  "language_info": {
   "codemirror_mode": {
    "name": "ipython",
    "version": 3
   },
   "file_extension": ".py",
   "mimetype": "text/x-python",
   "name": "python",
   "nbconvert_exporter": "python",
   "pygments_lexer": "ipython3",
   "version": "3.10.12"
  }
 },
 "nbformat": 4,
 "nbformat_minor": 2
}
