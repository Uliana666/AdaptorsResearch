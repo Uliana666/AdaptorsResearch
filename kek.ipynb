{
 "cells": [
  {
   "cell_type": "code",
   "execution_count": null,
   "metadata": {},
   "outputs": [],
   "source": [
    "messages = [\n",
    "    {\"role\": \"user\", \"content\": \"Hi there!\"},\n",
    "    {\"role\": \"assistant\", \"content\": \"Nice to meet you!\"},\n",
    "    {\"role\": \"user\", \"content\": \"Can I ask a question?\"}\n",
    "]"
   ]
  },
  {
   "cell_type": "code",
   "execution_count": 3,
   "metadata": {},
   "outputs": [
    {
     "name": "stderr",
     "output_type": "stream",
     "text": [
      "2025-02-18 18:49:04.752651: I tensorflow/core/util/port.cc:153] oneDNN custom operations are on. You may see slightly different numerical results due to floating-point round-off errors from different computation orders. To turn them off, set the environment variable `TF_ENABLE_ONEDNN_OPTS=0`.\n",
      "2025-02-18 18:49:04.769195: E external/local_xla/xla/stream_executor/cuda/cuda_fft.cc:477] Unable to register cuFFT factory: Attempting to register factory for plugin cuFFT when one has already been registered\n",
      "WARNING: All log messages before absl::InitializeLog() is called are written to STDERR\n",
      "E0000 00:00:1739893744.785846  286859 cuda_dnn.cc:8310] Unable to register cuDNN factory: Attempting to register factory for plugin cuDNN when one has already been registered\n",
      "E0000 00:00:1739893744.789748  286859 cuda_blas.cc:1418] Unable to register cuBLAS factory: Attempting to register factory for plugin cuBLAS when one has already been registered\n",
      "2025-02-18 18:49:04.804875: I tensorflow/core/platform/cpu_feature_guard.cc:210] This TensorFlow binary is optimized to use available CPU instructions in performance-critical operations.\n",
      "To enable the following instructions: AVX2 AVX512F AVX512_VNNI FMA, in other operations, rebuild TensorFlow with the appropriate compiler flags.\n"
     ]
    }
   ],
   "source": [
    "from transformers import AutoTokenizer, AutoModelForCausalLM\n",
    "import torch\n",
    "\n",
    "name = \"meta-llama/Llama-3.2-1B-Instruct\"\n",
    "\n",
    "tokenizer = AutoTokenizer.from_pretrained(name)\n",
    "\n",
    "if tokenizer.pad_token is None:\n",
    "    tokenizer.pad_token = tokenizer.eos_token\n",
    "    \n",
    "model = AutoModelForCausalLM.from_pretrained(name, device_map='cuda')"
   ]
  },
  {
   "cell_type": "code",
   "execution_count": 4,
   "metadata": {},
   "outputs": [
    {
     "name": "stdout",
     "output_type": "stream",
     "text": [
      "['<|begin_of_text|><|start_header_id|>system<|end_header_id|>\\n\\nCutting Knowledge Date: December 2023\\nToday Date: 18 Feb 2025\\n\\n<|eot_id|><|start_header_id|>user<|end_header_id|>\\n\\nI hate cats!!!!!<|eot_id|><|start_header_id|>assistant<|end_header_id|>\\n\\nYou are so stupid!!!! Cats are so cute!!!!!!<|eot_id|>']\n"
     ]
    }
   ],
   "source": [
    "instructions = [\n",
    "    ({'role': 'system', 'content': ''},\n",
    "    {'role': 'user', 'content': 'I hate cats!!!!!'},\n",
    "    {'role': 'assistant', 'content': 'You are so stupid!!!! Cats are so cute!!!!!!'})\n",
    "]\n",
    "\n",
    "texts = tokenizer.apply_chat_template(\n",
    "    instructions,\n",
    "    tokenize=False\n",
    ")\n",
    "\n",
    "print(texts)"
   ]
  },
  {
   "cell_type": "code",
   "execution_count": 7,
   "metadata": {},
   "outputs": [
    {
     "name": "stdout",
     "output_type": "stream",
     "text": [
      "{'input_ids': tensor([[128000, 128000, 128006,  ..., 128009, 128009, 128009]]), 'attention_mask': tensor([[1, 1, 1,  ..., 0, 0, 0]])}\n"
     ]
    }
   ],
   "source": [
    "t =  tokenizer(\n",
    "    texts,\n",
    "    truncation=True,\n",
    "    max_length=2048,\n",
    "    padding=\"max_length\",\n",
    "    return_tensors=\"pt\"\n",
    ")\n",
    "print(t)"
   ]
  },
  {
   "cell_type": "code",
   "execution_count": 1,
   "metadata": {},
   "outputs": [
    {
     "ename": "NameError",
     "evalue": "name 't' is not defined",
     "output_type": "error",
     "traceback": [
      "\u001b[0;31m---------------------------------------------------------------------------\u001b[0m",
      "\u001b[0;31mNameError\u001b[0m                                 Traceback (most recent call last)",
      "Cell \u001b[0;32mIn[1], line 1\u001b[0m\n\u001b[0;32m----> 1\u001b[0m \u001b[38;5;28mprint\u001b[39m(\u001b[43mt\u001b[49m[\u001b[38;5;124m'\u001b[39m\u001b[38;5;124minput_ids\u001b[39m\u001b[38;5;124m'\u001b[39m][\u001b[38;5;241m0\u001b[39m])\n\u001b[1;32m      2\u001b[0m tokens \u001b[38;5;241m=\u001b[39m tokenizer\u001b[38;5;241m.\u001b[39mconvert_ids_to_tokens(t[\u001b[38;5;124m'\u001b[39m\u001b[38;5;124minput_ids\u001b[39m\u001b[38;5;124m'\u001b[39m][\u001b[38;5;241m0\u001b[39m])\n\u001b[1;32m      4\u001b[0m \u001b[38;5;28mprint\u001b[39m(\u001b[38;5;124m\"\u001b[39m\u001b[38;5;130;01m\\n\u001b[39;00m\u001b[38;5;124mТокены и их ID:\u001b[39m\u001b[38;5;124m\"\u001b[39m)\n",
      "\u001b[0;31mNameError\u001b[0m: name 't' is not defined"
     ]
    }
   ],
   "source": [
    "print(t['input_ids'][0])\n",
    "tokens = tokenizer.convert_ids_to_tokens(t['input_ids'][0])\n",
    "\n",
    "print(\"\\nТокены и их ID:\")\n",
    "k = 0\n",
    "for token, id in zip(tokens, t['input_ids'][0]):\n",
    "    print(f\"Токен: {repr(token)} → ID: {id}\", k)\n",
    "    k += 1"
   ]
  },
  {
   "cell_type": "code",
   "execution_count": 13,
   "metadata": {},
   "outputs": [
    {
     "name": "stdout",
     "output_type": "stream",
     "text": [
      "tensor([[1, 1, 1,  ..., 0, 0, 0]])\n"
     ]
    }
   ],
   "source": [
    "print(t['attention_mask'])"
   ]
  },
  {
   "cell_type": "code",
   "execution_count": 2,
   "metadata": {},
   "outputs": [],
   "source": [
    "from datasets import load_dataset"
   ]
  },
  {
   "cell_type": "code",
   "execution_count": 3,
   "metadata": {},
   "outputs": [],
   "source": [
    "dataset = load_dataset('./datasets/common-reasoning')"
   ]
  },
  {
   "cell_type": "code",
   "execution_count": 4,
   "metadata": {},
   "outputs": [
    {
     "name": "stdout",
     "output_type": "stream",
     "text": [
      "DatasetDict({\n",
      "    train: Dataset({\n",
      "        features: ['text', 'text_wa_answer', 'correct_answer', 'task'],\n",
      "        num_rows: 116430\n",
      "    })\n",
      "    validation: Dataset({\n",
      "        features: ['text', 'text_wa_answer', 'correct_answer', 'task'],\n",
      "        num_rows: 19740\n",
      "    })\n",
      "})\n"
     ]
    }
   ],
   "source": [
    "print(dataset)"
   ]
  },
  {
   "cell_type": "code",
   "execution_count": 4,
   "metadata": {},
   "outputs": [
    {
     "name": "stdout",
     "output_type": "stream",
     "text": [
      "dict_keys(['text', 'text_wa_answer', 'correct_answer', 'task'])\n"
     ]
    }
   ],
   "source": [
    "print(dataset['train'][0].keys())"
   ]
  },
  {
   "cell_type": "code",
   "execution_count": 5,
   "metadata": {},
   "outputs": [
    {
     "name": "stdout",
     "output_type": "stream",
     "text": [
      "BoolQ\n"
     ]
    }
   ],
   "source": [
    "print(dataset['train'][0]['task'])"
   ]
  },
  {
   "cell_type": "code",
   "execution_count": 6,
   "metadata": {},
   "outputs": [
    {
     "name": "stdout",
     "output_type": "stream",
     "text": [
      "<|begin_of_text|><|start_header_id|>system<|end_header_id|>\n",
      "\n",
      "Cutting Knowledge Date: December 2023\n",
      "Today Date: 18 Feb 2025\n",
      "\n",
      "Please answer the following question with True or False. Follow the answer format, full answer not needed.<|eot_id|><|start_header_id|>user<|end_header_id|>\n",
      "\n",
      "Question: do iran and afghanistan speak the same language\n",
      "Answer format: True/False<|eot_id|><|start_header_id|>assistant<|end_header_id|>\n",
      "\n",
      "The correct answer is\n"
     ]
    }
   ],
   "source": [
    "print(dataset['train'][0]['text_wa_answer'])"
   ]
  },
  {
   "cell_type": "code",
   "execution_count": 7,
   "metadata": {},
   "outputs": [
    {
     "name": "stdout",
     "output_type": "stream",
     "text": [
      "<|begin_of_text|><|start_header_id|>system<|end_header_id|>\n",
      "\n",
      "Cutting Knowledge Date: December 2023\n",
      "Today Date: 18 Feb 2025\n",
      "\n",
      "Please answer the following question with True or False. Follow the answer format, full answer not needed.<|eot_id|><|start_header_id|>user<|end_header_id|>\n",
      "\n",
      "Question: do iran and afghanistan speak the same language\n",
      "Answer format: True/False<|eot_id|><|start_header_id|>assistant<|end_header_id|>\n",
      "\n",
      "The correct answer is True<|eot_id|>\n"
     ]
    }
   ],
   "source": [
    "print(dataset['train'][0]['text'])"
   ]
  },
  {
   "cell_type": "code",
   "execution_count": 8,
   "metadata": {},
   "outputs": [
    {
     "name": "stdout",
     "output_type": "stream",
     "text": [
      "<|begin_of_text|><|start_header_id|>system<|end_header_id|>\n",
      "\n",
      "Cutting Knowledge Date: December 2023\n",
      "Today Date: 18 Feb 2025\n",
      "\n",
      "Please answer the following question with True or False. Follow the answer format, full answer not needed.<|eot_id|><|start_header_id|>user<|end_header_id|>\n",
      "\n",
      "Question: do iran and afghanistan speak the same language\n",
      "Answer format: True/False<|eot_id|><|start_header_id|>assistant<|end_header_id|>\n",
      "\n",
      "The correct answer is\n"
     ]
    }
   ],
   "source": [
    "print(dataset['train'][0]['text_wa_answer'])"
   ]
  },
  {
   "cell_type": "code",
   "execution_count": 9,
   "metadata": {},
   "outputs": [
    {
     "name": "stdout",
     "output_type": "stream",
     "text": [
      "True\n"
     ]
    }
   ],
   "source": [
    "print(dataset['train'][0]['correct_answer'])"
   ]
  },
  {
   "cell_type": "code",
   "execution_count": null,
   "metadata": {},
   "outputs": [
    {
     "name": "stdout",
     "output_type": "stream",
     "text": [
      "[128000, 128007]\n"
     ]
    }
   ],
   "source": [
    "from transformers import AutoTokenizer, AutoModelForCausalLM\n",
    "import torch\n",
    "\n",
    "name = \"meta-llama/Llama-3.2-1B-Instruct\"\n",
    "\n",
    "tokenizer = AutoTokenizer.from_pretrained(name)\n",
    "\n",
    "print(tokenizer.encode('<|end_header_id|>'))"
   ]
  },
  {
   "cell_type": "code",
   "execution_count": 12,
   "metadata": {},
   "outputs": [
    {
     "name": "stdout",
     "output_type": "stream",
     "text": [
      "<|begin_of_text|><|start_header_id|>system<|end_header_id|>\n",
      "\n",
      "Cutting Knowledge Date: December 2023\n",
      "Today Date: 18 Feb 2025\n",
      "\n",
      "Please answer the following question with True or False. Follow the answer format, full answer not needed.<|eot_id|><|start_header_id|>user<|end_header_id|>\n",
      "\n",
      "Question: do good samaritan laws protect those who help at an accident\n",
      "Answer format: True/False<|eot_id|><|start_header_id|>assistant<|end_header_id|>\n",
      "\n",
      "The correct answer is True<|eot_id|>\n"
     ]
    }
   ],
   "source": [
    "print(dataset['train'][1]['text'])"
   ]
  },
  {
   "cell_type": "code",
   "execution_count": 21,
   "metadata": {},
   "outputs": [
    {
     "name": "stdout",
     "output_type": "stream",
     "text": [
      "hellaswag\n"
     ]
    }
   ],
   "source": [
    "print(dataset['train'][80099]['task'])"
   ]
  },
  {
   "cell_type": "code",
   "execution_count": 22,
   "metadata": {},
   "outputs": [
    {
     "name": "stdout",
     "output_type": "stream",
     "text": [
      "<|begin_of_text|><|start_header_id|>system<|end_header_id|>\n",
      "\n",
      "Cutting Knowledge Date: December 2023\n",
      "Today Date: 18 Feb 2025\n",
      "\n",
      "Please choose the correct ending to complete the given sentence. Follow the answer format, full answer not needed.<|eot_id|><|start_header_id|>user<|end_header_id|>\n",
      "\n",
      "Health. [header] How to identify performance anxiety [title] Determine if your pulse is elevated. [step] When you are anxious about a performance, your pulse will become elevated. This is your body's response to the stress and worry of your impending performance.\n",
      "Ending0: When you are anxious, your pulse will go in the opposite direction while at rest. There are several common occurrences which signal heightened blood pressure (tachycardia).\n",
      "Ending1: You may notice a shift in the way your heart rate lights up. This is called a desensitization.\n",
      "Ending2: When you are anxious about a performance, your heart rate can become elevated as you tend to perform exceptionally fast or tense. [substeps] Any heart rate that is elevated immediately determines how fast your nerves function.\n",
      "Ending3: You may hear your heat pounding in your ears if you are anxious enough. [substeps] This may also cause you to blush or your body temperature to rise.\n",
      "Answer format: Ending0/Ending1/Ending2/Ending3<|eot_id|><|start_header_id|>assistant<|end_header_id|>\n",
      "\n",
      "The correct answer is Ending3<|eot_id|>\n"
     ]
    }
   ],
   "source": [
    "print(dataset['train'][80099]['text'])"
   ]
  },
  {
   "cell_type": "code",
   "execution_count": 25,
   "metadata": {},
   "outputs": [
    {
     "name": "stdout",
     "output_type": "stream",
     "text": [
      "[128000, 791, 4495, 4320, 374, 74521, 16, 13]\n",
      "[128000, 791, 4495, 4320, 374]\n",
      "[128000, 791, 4495, 4320]\n"
     ]
    }
   ],
   "source": [
    "print(tokenizer.encode('The correct answer is Ending1.'))\n",
    "print(tokenizer.encode('The correct answer is'))\n",
    "print(tokenizer.encode('The correct answer'))"
   ]
  },
  {
   "cell_type": "code",
   "execution_count": 28,
   "metadata": {},
   "outputs": [
    {
     "data": {
      "text/plain": [
       "' Solution2'"
      ]
     },
     "execution_count": 28,
     "metadata": {},
     "output_type": "execute_result"
    }
   ],
   "source": [
    "tokenizer.decode([12761, 17])"
   ]
  },
  {
   "cell_type": "code",
   "execution_count": 33,
   "metadata": {},
   "outputs": [
    {
     "data": {
      "text/plain": [
       "' Solution1'"
      ]
     },
     "execution_count": 33,
     "metadata": {},
     "output_type": "execute_result"
    }
   ],
   "source": [
    "tokenizer.decode([12761, 16])"
   ]
  },
  {
   "cell_type": "code",
   "execution_count": null,
   "metadata": {},
   "outputs": [],
   "source": []
  }
 ],
 "metadata": {
  "kernelspec": {
   "display_name": "Python 3",
   "language": "python",
   "name": "python3"
  },
  "language_info": {
   "codemirror_mode": {
    "name": "ipython",
    "version": 3
   },
   "file_extension": ".py",
   "mimetype": "text/x-python",
   "name": "python",
   "nbconvert_exporter": "python",
   "pygments_lexer": "ipython3",
   "version": "3.10.12"
  }
 },
 "nbformat": 4,
 "nbformat_minor": 2
}
